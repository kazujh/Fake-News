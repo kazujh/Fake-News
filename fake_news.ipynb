{
 "cells": [
  {
   "cell_type": "code",
   "execution_count": 7,
   "id": "14873286-6388-411a-bf9b-6422537739b4",
   "metadata": {},
   "outputs": [],
   "source": [
    "import numpy as np\n",
    "import pandas as pd\n",
    "import matplotlib.pyplot as plt\n",
    "import os\n",
    "import re\n",
    "from transformers import BertTokenizer"
   ]
  },
  {
   "cell_type": "code",
   "execution_count": 8,
   "id": "7f0a0a7f-20d2-4ed7-8ff0-dff17a333994",
   "metadata": {},
   "outputs": [],
   "source": [
    "#data preprocessing\n",
    "SEED = 42"
   ]
  },
  {
   "cell_type": "code",
   "execution_count": 9,
   "id": "cc220ec1-0ef8-4c1f-aa26-9be56d1da4ca",
   "metadata": {},
   "outputs": [],
   "source": [
    "file_directory = os.getcwd()"
   ]
  },
  {
   "cell_type": "code",
   "execution_count": 10,
   "id": "6925d511-4681-4e6b-9124-60baefa0aca9",
   "metadata": {},
   "outputs": [],
   "source": [
    "def preprocess(text):\n",
    "    text = text.lower()\n",
    "    if text[:4] == 'says':\n",
    "        text = text[4:]\n",
    "    elif text[:5] == 'print':\n",
    "        text = text[5:]\n",
    "    text = re.sub(r'-+', ' ', text)\n",
    "    text = re.sub(r'_+', ' ', text)\n",
    "    text = re.sub(r'(\\n)+', ' ', text)\n",
    "    text = re.sub(r'[^\\w\\s]', '', text)\n",
    "    text = re.sub(r'\\d+', '', text)\n",
    "    text = text.strip()\n",
    "    return text"
   ]
  },
  {
   "cell_type": "code",
   "execution_count": 11,
   "id": "34e1bb66-6dc0-462e-9a45-44268a7b9eaa",
   "metadata": {},
   "outputs": [],
   "source": [
    "def combine_dfs(df1, df2):\n",
    "    return pd.concat([df1, df2])"
   ]
  },
  {
   "cell_type": "code",
   "execution_count": 12,
   "id": "a10f81fe-3507-4e25-ab3f-191901cbbd18",
   "metadata": {},
   "outputs": [],
   "source": [
    "from imblearn.over_sampling import RandomOverSampler, SMOTE\n",
    "from sklearn.model_selection import train_test_split\n",
    "from sklearn.feature_extraction.text import TfidfVectorizer\n",
    "from nltk.corpus import wordnet\n",
    "import random"
   ]
  },
  {
   "cell_type": "code",
   "execution_count": 13,
   "id": "ca77dcc9-4bce-4c8f-a9f0-b2eb46520281",
   "metadata": {},
   "outputs": [],
   "source": [
    "def paraphrase(text):\n",
    "    words = text.split()\n",
    "    new_words = []\n",
    "    for word in words:\n",
    "        synonyms = wordnet.synsets(word)\n",
    "        if synonyms:\n",
    "            add = random.choice(synonyms[0].lemmas())\n",
    "            new_words.append(add.name())\n",
    "        else:\n",
    "            new_words.append(word)\n",
    "    return ' '.join(new_words)"
   ]
  },
  {
   "cell_type": "code",
   "execution_count": 14,
   "id": "ffbc0b20-aede-4eaa-9546-5f458588b8a8",
   "metadata": {},
   "outputs": [],
   "source": [
    "column_names = ['id', 'truth-value', 'statement', 'topics', 'speaker', 'speaker occupation', 'state', 'party', 'barely-true', 'false', 'half-true', 'true', 'POF', 'context']\n",
    "df = pd.DataFrame()\n",
    "current_df = pd.read_csv(\"./Liar dataset/train.tsv\", sep=\"\\t\", names=column_names)\n",
    "\n",
    "\n",
    "label_map = {\n",
    "    'POF': 0,\n",
    "    'false': 0,\n",
    "    'barely-true': 0,\n",
    "    'half-true': 1,\n",
    "    'true': 1\n",
    "}\n",
    "label_columns = ['POF', 'false', 'barely-true', 'half-true', 'true']\n",
    "current_df = current_df.dropna(subset=label_columns, how='all')\n",
    "current_df = current_df[['statement', 'POF', 'false', 'barely-true', 'half-true', 'true']]\n",
    "current_df['label'] = current_df[label_columns].idxmax(axis=1)\n",
    "current_df['truth'] = current_df['label'].map(label_map)\n",
    "\n",
    "\"\"\"weighted_sum = sum([current_data[col] * label_map[col] for col in label_columns])\n",
    "total_counts = current_data[label_columns].sum(axis=1)\n",
    "current_data['confidence'] = round((weighted_sum / total_counts), 2)\"\"\"\n",
    "current_df = current_df[['statement', 'truth']]\n",
    "current_df['statement'] = current_df['statement'].apply(preprocess)"
   ]
  },
  {
   "cell_type": "code",
   "execution_count": 15,
   "id": "d4cb3041-4f49-472f-a43a-ca28cc9f2be6",
   "metadata": {},
   "outputs": [],
   "source": [
    "current_df = current_df.sample(frac=1).reset_index(drop=True)"
   ]
  },
  {
   "cell_type": "code",
   "execution_count": 16,
   "id": "74f2845a-7c8f-41a0-84ce-0e03be143dc9",
   "metadata": {},
   "outputs": [],
   "source": [
    "paraphrased_statements = pd.Series([paraphrase(statement) for statement in current_df[:len(current_df) // 2]['statement']])"
   ]
  },
  {
   "cell_type": "code",
   "execution_count": 17,
   "id": "8525771e-359f-44c1-9084-b8399b0e7f7b",
   "metadata": {},
   "outputs": [],
   "source": [
    "paraphrased_statements = paraphrased_statements.apply(preprocess)\n",
    "paraphrased_df = pd.DataFrame({'statement': paraphrased_statements, 'truth': current_df['truth'][:len(current_df) // 2]})"
   ]
  },
  {
   "cell_type": "code",
   "execution_count": 18,
   "id": "0fa907f5-95a4-4758-b472-c29a3d6d64b0",
   "metadata": {},
   "outputs": [],
   "source": [
    "current_df = combine_dfs(paraphrased_df, current_df)"
   ]
  },
  {
   "cell_type": "code",
   "execution_count": 19,
   "id": "21bb8f06-a8a9-4d50-871c-9dd7b496df6c",
   "metadata": {},
   "outputs": [],
   "source": [
    "oversampler = RandomOverSampler(random_state=SEED)\n",
    "X_resampled, y_resampled = oversampler.fit_resample(current_df[['statement']], current_df['truth'])\n",
    "oversampled_df = pd.DataFrame({'statement': X_resampled['statement'], 'truth': y_resampled})"
   ]
  },
  {
   "cell_type": "code",
   "execution_count": 20,
   "id": "6260cc58-8196-4838-9501-686ac20753bf",
   "metadata": {},
   "outputs": [],
   "source": [
    "df = combine_dfs(df, oversampled_df)"
   ]
  },
  {
   "cell_type": "code",
   "execution_count": 21,
   "id": "fb21cec9-6e34-41f0-9fa6-9c41f8338932",
   "metadata": {
    "scrolled": true
   },
   "outputs": [],
   "source": [
    "current_df = pd.read_csv('./dataset 1/FakeNewsNet.csv')\n",
    "\n",
    "current_df = current_df[['title', 'real']]\n",
    "current_df = current_df.rename(columns={'title':'statement', 'real':'truth'})\n",
    "current_df['truth'] = current_df['truth'].astype(int)\n",
    "current_df['statement'] = current_df['statement'].apply(preprocess)"
   ]
  },
  {
   "cell_type": "code",
   "execution_count": 22,
   "id": "20e64cd2-fa99-43c5-90ac-543ed84d5923",
   "metadata": {},
   "outputs": [],
   "source": [
    "current_df = current_df.sample(frac=1).reset_index(drop=True)"
   ]
  },
  {
   "cell_type": "code",
   "execution_count": 23,
   "id": "35324e93-5c7c-4caa-8c31-7007c56ce8d1",
   "metadata": {},
   "outputs": [],
   "source": [
    "paraphrased_statements = paraphrased_statements.apply(preprocess)\n",
    "paraphrased_df = pd.DataFrame({'statement': paraphrased_statements, 'truth': current_df['truth'][:len(current_df) // 2]})"
   ]
  },
  {
   "cell_type": "code",
   "execution_count": 24,
   "id": "64eb50a0-5c04-45f5-92c3-f3330c5b7bc5",
   "metadata": {},
   "outputs": [],
   "source": [
    "current_df = combine_dfs(paraphrased_df, current_df)"
   ]
  },
  {
   "cell_type": "code",
   "execution_count": 25,
   "id": "c6bc4eed-7adc-437c-ae00-4751d5b86767",
   "metadata": {},
   "outputs": [],
   "source": [
    "X_resampled, y_resampled = oversampler.fit_resample(current_df[['statement']], current_df['truth'])\n",
    "oversampled_df = pd.DataFrame({'statement': X_resampled['statement'], 'truth': y_resampled})"
   ]
  },
  {
   "cell_type": "code",
   "execution_count": 26,
   "id": "522e4e82-a3b2-4bb2-b7fb-545ac7fa170c",
   "metadata": {},
   "outputs": [],
   "source": [
    "df = combine_dfs(df, oversampled_df)"
   ]
  },
  {
   "cell_type": "code",
   "execution_count": 27,
   "id": "d3e8715d-15b4-4f4d-aa45-9be4af313a00",
   "metadata": {},
   "outputs": [],
   "source": [
    "current_df = pd.read_csv('./KaggleFakeNews/train.csv')"
   ]
  },
  {
   "cell_type": "code",
   "execution_count": 28,
   "id": "36242d6b-6576-459a-a2d0-b4a3d9ed7332",
   "metadata": {},
   "outputs": [],
   "source": [
    "current_df = current_df.dropna(how='all')\n",
    "current_df = current_df.rename(columns={'text':'statement', 'label':'truth'})\n",
    "current_df = current_df[['statement', 'truth']]\n",
    "current_df['statement'] = current_df['statement'].astype(str).apply(preprocess)"
   ]
  },
  {
   "cell_type": "code",
   "execution_count": 29,
   "id": "0b8bd996-2547-4461-82d5-d7d28df89b82",
   "metadata": {},
   "outputs": [],
   "source": [
    "current_df = current_df.sample(frac=1).reset_index(drop=True)"
   ]
  },
  {
   "cell_type": "code",
   "execution_count": 30,
   "id": "6c57be10-056d-4508-aabc-8b58abb45c77",
   "metadata": {},
   "outputs": [],
   "source": [
    "paraphrased_statements = pd.Series([paraphrase(statement) for statement in current_df['statement']])\n",
    "paraphrased_df = pd.DataFrame({'statement': paraphrased_statements, 'truth': current_df['truth'][:len(current_df) // 2]})"
   ]
  },
  {
   "cell_type": "code",
   "execution_count": 31,
   "id": "77851073-5dbd-40cb-ab72-608298c7aae4",
   "metadata": {},
   "outputs": [],
   "source": [
    "current_df = combine_dfs(paraphrased_df, current_df)"
   ]
  },
  {
   "cell_type": "code",
   "execution_count": 32,
   "id": "957d734e-9f43-40ab-8e27-d07bdc29d0b6",
   "metadata": {},
   "outputs": [],
   "source": [
    "current_df = current_df.dropna()"
   ]
  },
  {
   "cell_type": "code",
   "execution_count": 33,
   "id": "a9848d4b-c9d6-4f51-9b7b-8ea194225251",
   "metadata": {},
   "outputs": [],
   "source": [
    "X_resampled, y_resampled = oversampler.fit_resample(current_df[['statement']], current_df['truth'])\n",
    "oversampled_df = pd.DataFrame({'statement': X_resampled['statement'], 'truth': y_resampled})"
   ]
  },
  {
   "cell_type": "code",
   "execution_count": 34,
   "id": "90f47a65-0c4d-4ffa-a86a-544f44ae1251",
   "metadata": {},
   "outputs": [],
   "source": [
    "df = combine_dfs(df, oversampled_df)"
   ]
  },
  {
   "cell_type": "code",
   "execution_count": 35,
   "id": "d33f652d-daff-4218-bfa7-8239e04ffe09",
   "metadata": {},
   "outputs": [
    {
     "data": {
      "text/plain": [
       "truth\n",
       "0.0    49914\n",
       "1.0    49914\n",
       "Name: count, dtype: int64"
      ]
     },
     "execution_count": 35,
     "metadata": {},
     "output_type": "execute_result"
    }
   ],
   "source": [
    "df['truth'].value_counts()"
   ]
  },
  {
   "cell_type": "code",
   "execution_count": 36,
   "id": "8a8ff251-d28b-4b2c-8719-0a4cad914507",
   "metadata": {},
   "outputs": [],
   "source": [
    "from scipy.sparse import issparse, csr_matrix\n",
    "from sklearn.preprocessing import MinMaxScaler"
   ]
  },
  {
   "cell_type": "code",
   "execution_count": 37,
   "id": "bb823d56-2151-406b-9a03-0b7494caa10f",
   "metadata": {},
   "outputs": [],
   "source": [
    "class DecisionTree:\n",
    "    def __init__(self, max_depth=5, min_samples_split=2):\n",
    "        self.max_depth = max_depth\n",
    "        self.min_samples_split = min_samples_split\n",
    "        self.tree = None\n",
    "\n",
    "    def fit(self, X, y):\n",
    "        self.tree = self.grow_tree(X, y, 0)\n",
    "\n",
    "    def grow_tree(self, X, y, depth):\n",
    "\n",
    "        if depth >= self.max_depth or X.shape[0] < self.min_samples_split:\n",
    "            return np.bincount(y).argmax()\n",
    "\n",
    "        best_feature, best_threshold = self.find_best_split(X, y)\n",
    "        if best_feature is None:\n",
    "            return np.bincount(y).argmax()\n",
    "        X_col = X[:, best_feature].toarray().flatten()    \n",
    "        left_indices = X_col <= best_threshold\n",
    "        right_indices = X_col > best_threshold\n",
    "\n",
    "        if np.sum(left_indices) == 0 or np.sum(right_indices) == 0:\n",
    "            # Return majority class if split is invalid\n",
    "            return np.bincount(y).argmax()\n",
    "        left = self.grow_tree(X[left_indices], y[left_indices], depth + 1)\n",
    "        right = self.grow_tree(X[right_indices], y[right_indices], depth + 1)\n",
    "        return {'feature': best_feature, 'threshold': best_threshold, 'left': left, 'right': right}\n",
    "\n",
    "    def find_best_split(self, X, y):\n",
    "        #iterate through every split and test gini\n",
    "        n_features = X.shape[1]\n",
    "        features = np.random.choice(n_features, int(np.sqrt(n_features)), replace=False)\n",
    "        best_gini = 1.0\n",
    "        best_feature, best_threshold = None, None\n",
    "        for feature in features:\n",
    "            X_col = X[:, feature].toarray().flatten()\n",
    "            thresholds = np.unique(X_col[X_col > 0])\n",
    "            for threshold in thresholds:\n",
    "                left_indices = X_col <= threshold\n",
    "                right_indices = X_col > threshold\n",
    "                groups = [y[left_indices], y[right_indices]]\n",
    "\n",
    "                gini = gini_impurity(groups, np.unique(y))\n",
    "\n",
    "                if gini < best_gini:\n",
    "                    best_gini = gini\n",
    "                    best_threshold = threshold\n",
    "                    best_feature = feature\n",
    "            \n",
    "        return best_feature, best_threshold\n",
    "\n",
    "    def _predict_tree(self, X):\n",
    "        predictions = []\n",
    "        for row in X:\n",
    "            node = self.tree\n",
    "            while isinstance(node, dict):\n",
    "                if row[node['feature']] <= node['threshold']:\n",
    "                    node = node['left']\n",
    "                else:\n",
    "                    node = node['right']\n",
    "            predictions.append(node)\n",
    "        return predictions"
   ]
  },
  {
   "cell_type": "code",
   "execution_count": 38,
   "id": "2f15256f-e3f1-4f13-b726-c22aeeb781b0",
   "metadata": {},
   "outputs": [],
   "source": [
    "def gini_impurity(groups, classes):\n",
    "    n_instances = sum([len(group) for group in groups])\n",
    "    gini = 0.0\n",
    "    for group in groups:\n",
    "        size = len(group)\n",
    "        if size == 0:\n",
    "            continue\n",
    "        score = 0.0\n",
    "        for class_val in classes:\n",
    "            proportion = list(group).count(class_val) / size\n",
    "            score += proportion ** 2\n",
    "        gini += (1.0 - score) * (size / n_instances)\n",
    "    return gini"
   ]
  },
  {
   "cell_type": "code",
   "execution_count": 39,
   "id": "16723fe5-0734-4b25-96c7-dfa05f3c7b02",
   "metadata": {},
   "outputs": [],
   "source": [
    "class RandomForest:\n",
    "    def __init__(self, n_trees=10, max_depth=5, min_samples_split=2):\n",
    "        self.n_trees = n_trees\n",
    "        self.max_depth = max_depth\n",
    "        self.min_samples_split = min_samples_split\n",
    "        self.trees = []\n",
    "\n",
    "    def fit(self, X, y):\n",
    "        for _ in range(self.n_trees):\n",
    "            X_sample, y_sample = random_sample(X, y)\n",
    "\n",
    "            tree = DecisionTree(max_depth=self.max_depth, min_samples_split=self.min_samples_split)\n",
    "            tree.fit(X, y)\n",
    "            self.trees.append(tree)\n",
    "\n",
    "    def predict(self, X):\n",
    "        X_dense = X.toarray() if hasattr(X, \"toarray\") else X  # Handle sparse matrices\n",
    "        predictions = np.array([tree._predict_tree(X_dense) for tree in self.trees])\n",
    "        return np.apply_along_axis(lambda x: np.bincount(x).argmax(), axis=0, arr=predictions)"
   ]
  },
  {
   "cell_type": "code",
   "execution_count": 40,
   "id": "d2336937-32f2-4674-a052-80812c62f24f",
   "metadata": {},
   "outputs": [],
   "source": [
    "def random_sample(X, y):\n",
    "    n_samples = X.shape[0]\n",
    "    indices = np.random.choice(n_samples, size=n_samples, replace=True)\n",
    "    return X[indices], y[indices]"
   ]
  },
  {
   "cell_type": "code",
   "execution_count": 41,
   "id": "c47ef93a-2586-4c49-96cd-e03b1a54ac45",
   "metadata": {},
   "outputs": [],
   "source": [
    "from sklearn.ensemble import RandomForestClassifier, RandomForestRegressor"
   ]
  },
  {
   "cell_type": "code",
   "execution_count": 42,
   "id": "8e1bbc6c-d9ad-4193-b47d-dff64abf3e04",
   "metadata": {},
   "outputs": [],
   "source": [
    "#model = RandomForestClassifier(n_estimators=100, random_state=42)\n",
    "#model.fit(X_train, y_train)"
   ]
  },
  {
   "cell_type": "code",
   "execution_count": 43,
   "id": "c0f2e0ef-967b-47e5-a9bd-67db5f135366",
   "metadata": {},
   "outputs": [],
   "source": [
    "#y_pred = model.predict(X_test)"
   ]
  },
  {
   "cell_type": "code",
   "execution_count": 44,
   "id": "b7aad927-de89-420f-bd8b-66a60d092a55",
   "metadata": {},
   "outputs": [],
   "source": [
    "#print(\"Accuracy:\", accuracy_score(y_test, y_pred))\n",
    "#print(classification_report(y_test, y_pred))"
   ]
  },
  {
   "cell_type": "code",
   "execution_count": 45,
   "id": "96741faf-63a2-4339-8f3b-3e5e8b3083a1",
   "metadata": {},
   "outputs": [],
   "source": [
    "#assume X parameter will be sparse\n",
    "#print(X_train[0].indices)\n",
    "#print(X_train[0].data)"
   ]
  },
  {
   "cell_type": "code",
   "execution_count": 46,
   "id": "d039ecad-0432-4f94-bdbd-f78ed8147186",
   "metadata": {},
   "outputs": [],
   "source": [
    "#rf = RandomForest(n_trees=100, max_depth=10000)\n",
    "#rf.fit(X_train, y_train)\n",
    "\n",
    "#y_pred = rf.predict(X_test)\n",
    "\n",
    "#accuracy = np.sum(y_pred == y_test) / len(y_test)\n",
    "#print(f'accuracy: {accuracy}')"
   ]
  },
  {
   "cell_type": "code",
   "execution_count": 47,
   "id": "bb0e8a43-e519-4ab3-b1b9-20e18363aefb",
   "metadata": {},
   "outputs": [],
   "source": [
    "import tensorflow as tf\n",
    "from transformers import MobileBertTokenizer, TFAutoModelForSequenceClassification, AutoModelForSequenceClassification"
   ]
  },
  {
   "cell_type": "code",
   "execution_count": 66,
   "id": "de989381-83cd-490e-bcd6-d94c021179ba",
   "metadata": {},
   "outputs": [],
   "source": [
    "from fastai.text.all import *"
   ]
  },
  {
   "cell_type": "code",
   "execution_count": 67,
   "id": "8084530b-fbc6-4e9a-b0f6-01b1f2bbebd7",
   "metadata": {},
   "outputs": [],
   "source": [
    "df = df.sample(frac=1).reset_index(drop=True)"
   ]
  },
  {
   "cell_type": "code",
   "execution_count": 49,
   "id": "2b196fe5-75e3-4f89-b8f4-403f526ffea1",
   "metadata": {},
   "outputs": [],
   "source": [
    "\"\"\"X_bert = df['statement'].astype(str)\n",
    "y_bert = np.array(df['truth'])\n",
    "X_bert_train, X_bert_test, y_bert_train, y_bert_test = train_test_split(X_bert, y_bert, test_size=.2, random_state=42)\"\"\""
   ]
  },
  {
   "cell_type": "code",
   "execution_count": 50,
   "id": "300b450d-8f0d-45bb-88a6-50b3840c1d41",
   "metadata": {},
   "outputs": [],
   "source": [
    "#tokenizer = MobileBertTokenizer.from_pretrained('google/mobilebert-uncased')"
   ]
  },
  {
   "cell_type": "code",
   "execution_count": 51,
   "id": "f2c78d66-3446-45b0-83f9-bb86a26ff8ea",
   "metadata": {},
   "outputs": [],
   "source": [
    "#X_bert_train = X_bert_train.tolist()\n",
    "#X_bert_test = X_bert_test.tolist()"
   ]
  },
  {
   "cell_type": "code",
   "execution_count": 52,
   "id": "30591cc1-1b0b-4ba1-bc61-aaa5415d3c9a",
   "metadata": {
    "scrolled": true
   },
   "outputs": [],
   "source": [
    "\"\"\"train_tokenized = tokenizer(\n",
    "    X_bert_train,\n",
    "    padding=True,\n",
    "    truncation=True,\n",
    "    max_length=64,\n",
    "    return_tensors='pt'\n",
    ")\n",
    "\n",
    "test_tokenized = tokenizer(\n",
    "    X_bert_test,\n",
    "    padding=True,\n",
    "    truncation=True,\n",
    "    max_length=64,\n",
    "    return_tensors='pt'\n",
    ")\"\"\""
   ]
  },
  {
   "cell_type": "code",
   "execution_count": 53,
   "id": "7ff8edad-f5c4-43a4-8501-12469a532f60",
   "metadata": {},
   "outputs": [],
   "source": [
    "import torch\n",
    "from torch.utils.data import Dataset, DataLoader\n",
    "\n",
    "\"\"\"class MyBertDataset(Dataset):\n",
    "    def __init__(self, encodings, labels):\n",
    "        \"\"\"\n",
    "        encodings: a dict of Tensors (e.g., 'input_ids', 'attention_mask') from tokenizer(..., return_tensors='pt')\n",
    "        labels: a list or tensor of labels (e.g., y_bert_train)\n",
    "        \"\"\"\n",
    "        self.encodings = encodings\n",
    "        self.labels = labels\n",
    "\n",
    "    def __len__(self):\n",
    "        # Number of examples\n",
    "        return len(self.labels)\n",
    "\n",
    "    def __getitem__(self, idx):\n",
    "        # For the given idx, gather all the tokenized inputs\n",
    "        input_ids = self.encodings['input_ids'][idx].clone().detach()\n",
    "        attention_mask = self.encodings['attention_mask'][idx].clone().detach()\n",
    "        label = torch.tensor(self.labels[idx], dtype=torch.long)\n",
    "        return input_ids, attention_mask, label\n",
    "    def __testgetitem__(self, idx):\n",
    "        # Suppose we load data from somewhere and convert it to tensors\n",
    "        input_ids = torch.tensor([...])\n",
    "        attention_mask = torch.tensor([...])\n",
    "        label = torch.tensor(...)\n",
    "        return input_ids, attention_mask, label\"\"\""
   ]
  },
  {
   "cell_type": "code",
   "execution_count": 54,
   "id": "cb3a2189-3275-42c4-bd93-ce60a8c469f3",
   "metadata": {},
   "outputs": [],
   "source": [
    "#train_ds = MyBertDataset(train_tokenized, y_bert_train)\n",
    "#test_ds  = MyBertDataset(test_tokenized,  y_bert_test)"
   ]
  },
  {
   "cell_type": "code",
   "execution_count": 55,
   "id": "f571b74d-06bb-4adc-b360-e081c526afbe",
   "metadata": {},
   "outputs": [],
   "source": [
    "from fastai.vision.all import *"
   ]
  },
  {
   "cell_type": "code",
   "execution_count": 56,
   "id": "0d55ba10-4e8a-4e3a-b6af-a30b61a2751f",
   "metadata": {},
   "outputs": [],
   "source": [
    "\"\"\"def collate(batch):\n",
    "    # Suppose each batch item is a tuple: (input_ids_list, attention_mask_list, label)\n",
    "    input_ids = []\n",
    "    attention_masks = []\n",
    "    labels = []\n",
    "    \n",
    "    for b in batch:\n",
    "        input_ids.append(b[0])\n",
    "        attention_masks.append(b[1])\n",
    "        labels.append(b[2])\n",
    "        \n",
    "    # Convert them all to tensors\n",
    "    input_ids = torch.tensor(input_ids, dtype=torch.long)\n",
    "    attention_masks = torch.tensor(attention_masks, dtype=torch.long)\n",
    "    labels = torch.tensor(labels, dtype=torch.long)\n",
    "    \n",
    "    return (input_ids, attention_masks, labels)\n",
    "\"\"\""
   ]
  },
  {
   "cell_type": "code",
   "execution_count": 57,
   "id": "83c15249-caf5-4dc3-84e3-5efe7465d0ce",
   "metadata": {},
   "outputs": [],
   "source": [
    "\"\"\"train_dl = DataLoader(train_ds, batch_size=2, collate_fn=collate)\n",
    "test_dl = DataLoader(test_ds, batch_size=2, collate_fn=collate)\n",
    "\n",
    "dls = DataLoaders(train_dl, test_dl)\"\"\""
   ]
  },
  {
   "cell_type": "code",
   "execution_count": 76,
   "id": "30d9cd35-6e30-41fa-b5e1-c0c9ead639cc",
   "metadata": {},
   "outputs": [],
   "source": [
    "df = df.reset_index()"
   ]
  },
  {
   "cell_type": "code",
   "execution_count": 77,
   "id": "0afcd39a-c0ad-49fe-b07e-b27a9d1934c3",
   "metadata": {},
   "outputs": [
    {
     "name": "stdout",
     "output_type": "stream",
     "text": [
      "<class 'pandas.core.frame.DataFrame'>\n"
     ]
    }
   ],
   "source": [
    "print(type(df))"
   ]
  },
  {
   "cell_type": "code",
   "execution_count": 78,
   "id": "ec4d36f6-3a8a-4fe0-a8e2-36ea56fb4186",
   "metadata": {},
   "outputs": [
    {
     "name": "stdout",
     "output_type": "stream",
     "text": [
      "Due to IPython and Windows limitation, python multiprocessing isn't available now.\n",
      "So `n_workers` has to be changed to 0 to avoid getting stuck\n"
     ]
    },
    {
     "ename": "KeyboardInterrupt",
     "evalue": "",
     "output_type": "error",
     "traceback": [
      "\u001b[1;31m---------------------------------------------------------------------------\u001b[0m",
      "\u001b[1;31mKeyboardInterrupt\u001b[0m                         Traceback (most recent call last)",
      "Cell \u001b[1;32mIn[78], line 7\u001b[0m\n\u001b[0;32m      1\u001b[0m dblock \u001b[38;5;241m=\u001b[39m DataBlock(\n\u001b[0;32m      2\u001b[0m     blocks\u001b[38;5;241m=\u001b[39m(TextBlock\u001b[38;5;241m.\u001b[39mfrom_df(\u001b[38;5;124m'\u001b[39m\u001b[38;5;124mstatement\u001b[39m\u001b[38;5;124m'\u001b[39m, seq_len\u001b[38;5;241m=\u001b[39m\u001b[38;5;241m128\u001b[39m), CategoryBlock),  \u001b[38;5;66;03m# Text & Labels\u001b[39;00m\n\u001b[0;32m      3\u001b[0m     get_x\u001b[38;5;241m=\u001b[39mColReader(\u001b[38;5;124m'\u001b[39m\u001b[38;5;124mstatement\u001b[39m\u001b[38;5;124m'\u001b[39m),  \u001b[38;5;66;03m# Feature column\u001b[39;00m\n\u001b[0;32m      4\u001b[0m     get_y\u001b[38;5;241m=\u001b[39mColReader(\u001b[38;5;124m'\u001b[39m\u001b[38;5;124mtruth\u001b[39m\u001b[38;5;124m'\u001b[39m),  \u001b[38;5;66;03m# Label column\u001b[39;00m\n\u001b[0;32m      5\u001b[0m     splitter\u001b[38;5;241m=\u001b[39mRandomSplitter(valid_pct\u001b[38;5;241m=\u001b[39m\u001b[38;5;241m0.2\u001b[39m)  \u001b[38;5;66;03m# Split into train/validation sets\u001b[39;00m\n\u001b[0;32m      6\u001b[0m )\n\u001b[1;32m----> 7\u001b[0m \u001b[38;5;28mprint\u001b[39m(\u001b[43mdblock\u001b[49m\u001b[38;5;241;43m.\u001b[39;49m\u001b[43mdatasets\u001b[49m\u001b[43m(\u001b[49m\u001b[43mdf\u001b[49m\u001b[43m)\u001b[49m\u001b[38;5;241m.\u001b[39mitems)\n\u001b[0;32m      8\u001b[0m \u001b[38;5;66;03m# Load data into DataLoader\u001b[39;00m\n\u001b[0;32m      9\u001b[0m dls \u001b[38;5;241m=\u001b[39m dblock\u001b[38;5;241m.\u001b[39mdataloaders(df, bs\u001b[38;5;241m=\u001b[39m\u001b[38;5;241m16\u001b[39m)\n",
      "File \u001b[1;32m~\\AppData\\Local\\Packages\\PythonSoftwareFoundation.Python.3.12_qbz5n2kfra8p0\\LocalCache\\local-packages\\Python312\\site-packages\\fastai\\data\\block.py:149\u001b[0m, in \u001b[0;36mDataBlock.datasets\u001b[1;34m(self, source, verbose)\u001b[0m\n\u001b[0;32m    147\u001b[0m splits \u001b[38;5;241m=\u001b[39m (\u001b[38;5;28mself\u001b[39m\u001b[38;5;241m.\u001b[39msplitter \u001b[38;5;129;01mor\u001b[39;00m RandomSplitter())(items)\n\u001b[0;32m    148\u001b[0m pv(\u001b[38;5;124mf\u001b[39m\u001b[38;5;124m\"\u001b[39m\u001b[38;5;132;01m{\u001b[39;00m\u001b[38;5;28mlen\u001b[39m(splits)\u001b[38;5;132;01m}\u001b[39;00m\u001b[38;5;124m datasets of sizes \u001b[39m\u001b[38;5;132;01m{\u001b[39;00m\u001b[38;5;124m'\u001b[39m\u001b[38;5;124m,\u001b[39m\u001b[38;5;124m'\u001b[39m\u001b[38;5;241m.\u001b[39mjoin([\u001b[38;5;28mstr\u001b[39m(\u001b[38;5;28mlen\u001b[39m(s))\u001b[38;5;250m \u001b[39m\u001b[38;5;28;01mfor\u001b[39;00m\u001b[38;5;250m \u001b[39ms\u001b[38;5;250m \u001b[39m\u001b[38;5;129;01min\u001b[39;00m\u001b[38;5;250m \u001b[39msplits])\u001b[38;5;132;01m}\u001b[39;00m\u001b[38;5;124m\"\u001b[39m, verbose)\n\u001b[1;32m--> 149\u001b[0m \u001b[38;5;28;01mreturn\u001b[39;00m \u001b[43mDatasets\u001b[49m\u001b[43m(\u001b[49m\u001b[43mitems\u001b[49m\u001b[43m,\u001b[49m\u001b[43m \u001b[49m\u001b[43mtfms\u001b[49m\u001b[38;5;241;43m=\u001b[39;49m\u001b[38;5;28;43mself\u001b[39;49m\u001b[38;5;241;43m.\u001b[39;49m\u001b[43m_combine_type_tfms\u001b[49m\u001b[43m(\u001b[49m\u001b[43m)\u001b[49m\u001b[43m,\u001b[49m\u001b[43m \u001b[49m\u001b[43msplits\u001b[49m\u001b[38;5;241;43m=\u001b[39;49m\u001b[43msplits\u001b[49m\u001b[43m,\u001b[49m\u001b[43m \u001b[49m\u001b[43mdl_type\u001b[49m\u001b[38;5;241;43m=\u001b[39;49m\u001b[38;5;28;43mself\u001b[39;49m\u001b[38;5;241;43m.\u001b[39;49m\u001b[43mdl_type\u001b[49m\u001b[43m,\u001b[49m\u001b[43m \u001b[49m\u001b[43mn_inp\u001b[49m\u001b[38;5;241;43m=\u001b[39;49m\u001b[38;5;28;43mself\u001b[39;49m\u001b[38;5;241;43m.\u001b[39;49m\u001b[43mn_inp\u001b[49m\u001b[43m,\u001b[49m\u001b[43m \u001b[49m\u001b[43mverbose\u001b[49m\u001b[38;5;241;43m=\u001b[39;49m\u001b[43mverbose\u001b[49m\u001b[43m)\u001b[49m\n",
      "File \u001b[1;32m~\\AppData\\Local\\Packages\\PythonSoftwareFoundation.Python.3.12_qbz5n2kfra8p0\\LocalCache\\local-packages\\Python312\\site-packages\\fastai\\data\\core.py:445\u001b[0m, in \u001b[0;36mDatasets.__init__\u001b[1;34m(self, items, tfms, tls, n_inp, dl_type, **kwargs)\u001b[0m\n\u001b[0;32m    436\u001b[0m \u001b[38;5;28;01mdef\u001b[39;00m \u001b[38;5;21m__init__\u001b[39m(\u001b[38;5;28mself\u001b[39m, \n\u001b[0;32m    437\u001b[0m     items:\u001b[38;5;28mlist\u001b[39m\u001b[38;5;241m=\u001b[39m\u001b[38;5;28;01mNone\u001b[39;00m, \u001b[38;5;66;03m# List of items to create `Datasets`\u001b[39;00m\n\u001b[0;32m    438\u001b[0m     tfms:MutableSequence\u001b[38;5;241m|\u001b[39mPipeline\u001b[38;5;241m=\u001b[39m\u001b[38;5;28;01mNone\u001b[39;00m, \u001b[38;5;66;03m# List of `Transform`(s) or `Pipeline` to apply\u001b[39;00m\n\u001b[1;32m   (...)\u001b[0m\n\u001b[0;32m    442\u001b[0m     \u001b[38;5;241m*\u001b[39m\u001b[38;5;241m*\u001b[39mkwargs\n\u001b[0;32m    443\u001b[0m ):\n\u001b[0;32m    444\u001b[0m     \u001b[38;5;28msuper\u001b[39m()\u001b[38;5;241m.\u001b[39m\u001b[38;5;21m__init__\u001b[39m(dl_type\u001b[38;5;241m=\u001b[39mdl_type)\n\u001b[1;32m--> 445\u001b[0m     \u001b[38;5;28mself\u001b[39m\u001b[38;5;241m.\u001b[39mtls \u001b[38;5;241m=\u001b[39m L(tls \u001b[38;5;28;01mif\u001b[39;00m tls \u001b[38;5;28;01melse\u001b[39;00m [\u001b[43mTfmdLists\u001b[49m\u001b[43m(\u001b[49m\u001b[43mitems\u001b[49m\u001b[43m,\u001b[49m\u001b[43m \u001b[49m\u001b[43mt\u001b[49m\u001b[43m,\u001b[49m\u001b[43m \u001b[49m\u001b[38;5;241;43m*\u001b[39;49m\u001b[38;5;241;43m*\u001b[39;49m\u001b[43mkwargs\u001b[49m\u001b[43m)\u001b[49m \u001b[38;5;28;01mfor\u001b[39;00m t \u001b[38;5;129;01min\u001b[39;00m L(ifnone(tfms,[\u001b[38;5;28;01mNone\u001b[39;00m]))])\n\u001b[0;32m    446\u001b[0m     \u001b[38;5;28mself\u001b[39m\u001b[38;5;241m.\u001b[39mn_inp \u001b[38;5;241m=\u001b[39m ifnone(n_inp, \u001b[38;5;28mmax\u001b[39m(\u001b[38;5;241m1\u001b[39m, \u001b[38;5;28mlen\u001b[39m(\u001b[38;5;28mself\u001b[39m\u001b[38;5;241m.\u001b[39mtls)\u001b[38;5;241m-\u001b[39m\u001b[38;5;241m1\u001b[39m))\n",
      "File \u001b[1;32m~\\AppData\\Local\\Packages\\PythonSoftwareFoundation.Python.3.12_qbz5n2kfra8p0\\LocalCache\\local-packages\\Python312\\site-packages\\fastcore\\foundation.py:100\u001b[0m, in \u001b[0;36m_L_Meta.__call__\u001b[1;34m(cls, x, *args, **kwargs)\u001b[0m\n\u001b[0;32m     98\u001b[0m \u001b[38;5;28;01mdef\u001b[39;00m \u001b[38;5;21m__call__\u001b[39m(\u001b[38;5;28mcls\u001b[39m, x\u001b[38;5;241m=\u001b[39m\u001b[38;5;28;01mNone\u001b[39;00m, \u001b[38;5;241m*\u001b[39margs, \u001b[38;5;241m*\u001b[39m\u001b[38;5;241m*\u001b[39mkwargs):\n\u001b[0;32m     99\u001b[0m     \u001b[38;5;28;01mif\u001b[39;00m \u001b[38;5;129;01mnot\u001b[39;00m args \u001b[38;5;129;01mand\u001b[39;00m \u001b[38;5;129;01mnot\u001b[39;00m kwargs \u001b[38;5;129;01mand\u001b[39;00m x \u001b[38;5;129;01mis\u001b[39;00m \u001b[38;5;129;01mnot\u001b[39;00m \u001b[38;5;28;01mNone\u001b[39;00m \u001b[38;5;129;01mand\u001b[39;00m \u001b[38;5;28misinstance\u001b[39m(x,\u001b[38;5;28mcls\u001b[39m): \u001b[38;5;28;01mreturn\u001b[39;00m x\n\u001b[1;32m--> 100\u001b[0m     \u001b[38;5;28;01mreturn\u001b[39;00m \u001b[38;5;28;43msuper\u001b[39;49m\u001b[43m(\u001b[49m\u001b[43m)\u001b[49m\u001b[38;5;241;43m.\u001b[39;49m\u001b[38;5;21;43m__call__\u001b[39;49m\u001b[43m(\u001b[49m\u001b[43mx\u001b[49m\u001b[43m,\u001b[49m\u001b[43m \u001b[49m\u001b[38;5;241;43m*\u001b[39;49m\u001b[43margs\u001b[49m\u001b[43m,\u001b[49m\u001b[43m \u001b[49m\u001b[38;5;241;43m*\u001b[39;49m\u001b[38;5;241;43m*\u001b[39;49m\u001b[43mkwargs\u001b[49m\u001b[43m)\u001b[49m\n",
      "File \u001b[1;32m~\\AppData\\Local\\Packages\\PythonSoftwareFoundation.Python.3.12_qbz5n2kfra8p0\\LocalCache\\local-packages\\Python312\\site-packages\\fastai\\data\\core.py:359\u001b[0m, in \u001b[0;36mTfmdLists.__init__\u001b[1;34m(self, items, tfms, use_list, do_setup, split_idx, train_setup, splits, types, verbose, dl_type)\u001b[0m\n\u001b[0;32m    357\u001b[0m \u001b[38;5;28;01mif\u001b[39;00m do_setup:\n\u001b[0;32m    358\u001b[0m     pv(\u001b[38;5;124mf\u001b[39m\u001b[38;5;124m\"\u001b[39m\u001b[38;5;124mSetting up \u001b[39m\u001b[38;5;132;01m{\u001b[39;00m\u001b[38;5;28mself\u001b[39m\u001b[38;5;241m.\u001b[39mtfms\u001b[38;5;132;01m}\u001b[39;00m\u001b[38;5;124m\"\u001b[39m, verbose)\n\u001b[1;32m--> 359\u001b[0m     \u001b[38;5;28;43mself\u001b[39;49m\u001b[38;5;241;43m.\u001b[39;49m\u001b[43msetup\u001b[49m\u001b[43m(\u001b[49m\u001b[43mtrain_setup\u001b[49m\u001b[38;5;241;43m=\u001b[39;49m\u001b[43mtrain_setup\u001b[49m\u001b[43m)\u001b[49m\n",
      "File \u001b[1;32m~\\AppData\\Local\\Packages\\PythonSoftwareFoundation.Python.3.12_qbz5n2kfra8p0\\LocalCache\\local-packages\\Python312\\site-packages\\fastai\\data\\core.py:380\u001b[0m, in \u001b[0;36mTfmdLists.setup\u001b[1;34m(self, train_setup)\u001b[0m\n\u001b[0;32m    377\u001b[0m \u001b[38;5;28;01mdef\u001b[39;00m \u001b[38;5;21msetup\u001b[39m(\u001b[38;5;28mself\u001b[39m, \n\u001b[0;32m    378\u001b[0m     train_setup:\u001b[38;5;28mbool\u001b[39m\u001b[38;5;241m=\u001b[39m\u001b[38;5;28;01mTrue\u001b[39;00m \u001b[38;5;66;03m# Apply `Transform`(s) only on training `DataLoader`\u001b[39;00m\n\u001b[0;32m    379\u001b[0m ):\n\u001b[1;32m--> 380\u001b[0m     \u001b[38;5;28;43mself\u001b[39;49m\u001b[38;5;241;43m.\u001b[39;49m\u001b[43mtfms\u001b[49m\u001b[38;5;241;43m.\u001b[39;49m\u001b[43msetup\u001b[49m\u001b[43m(\u001b[49m\u001b[38;5;28;43mself\u001b[39;49m\u001b[43m,\u001b[49m\u001b[43m \u001b[49m\u001b[43mtrain_setup\u001b[49m\u001b[43m)\u001b[49m\n\u001b[0;32m    381\u001b[0m     \u001b[38;5;28;01mif\u001b[39;00m \u001b[38;5;28mlen\u001b[39m(\u001b[38;5;28mself\u001b[39m) \u001b[38;5;241m!=\u001b[39m \u001b[38;5;241m0\u001b[39m:\n\u001b[0;32m    382\u001b[0m         x \u001b[38;5;241m=\u001b[39m \u001b[38;5;28msuper\u001b[39m()\u001b[38;5;241m.\u001b[39m\u001b[38;5;21m__getitem__\u001b[39m(\u001b[38;5;241m0\u001b[39m) \u001b[38;5;28;01mif\u001b[39;00m \u001b[38;5;28mself\u001b[39m\u001b[38;5;241m.\u001b[39msplits \u001b[38;5;129;01mis\u001b[39;00m \u001b[38;5;28;01mNone\u001b[39;00m \u001b[38;5;28;01melse\u001b[39;00m \u001b[38;5;28msuper\u001b[39m()\u001b[38;5;241m.\u001b[39m\u001b[38;5;21m__getitem__\u001b[39m(\u001b[38;5;28mself\u001b[39m\u001b[38;5;241m.\u001b[39msplits[\u001b[38;5;241m0\u001b[39m])[\u001b[38;5;241m0\u001b[39m]\n",
      "File \u001b[1;32m~\\AppData\\Local\\Packages\\PythonSoftwareFoundation.Python.3.12_qbz5n2kfra8p0\\LocalCache\\local-packages\\Python312\\site-packages\\fastcore\\transform.py:202\u001b[0m, in \u001b[0;36mPipeline.setup\u001b[1;34m(self, items, train_setup)\u001b[0m\n\u001b[0;32m    200\u001b[0m tfms \u001b[38;5;241m=\u001b[39m \u001b[38;5;28mself\u001b[39m\u001b[38;5;241m.\u001b[39mfs[:]\n\u001b[0;32m    201\u001b[0m \u001b[38;5;28mself\u001b[39m\u001b[38;5;241m.\u001b[39mfs\u001b[38;5;241m.\u001b[39mclear()\n\u001b[1;32m--> 202\u001b[0m \u001b[38;5;28;01mfor\u001b[39;00m t \u001b[38;5;129;01min\u001b[39;00m tfms: \u001b[38;5;28;43mself\u001b[39;49m\u001b[38;5;241;43m.\u001b[39;49m\u001b[43madd\u001b[49m\u001b[43m(\u001b[49m\u001b[43mt\u001b[49m\u001b[43m,\u001b[49m\u001b[43mitems\u001b[49m\u001b[43m,\u001b[49m\u001b[43m \u001b[49m\u001b[43mtrain_setup\u001b[49m\u001b[43m)\u001b[49m\n",
      "File \u001b[1;32m~\\AppData\\Local\\Packages\\PythonSoftwareFoundation.Python.3.12_qbz5n2kfra8p0\\LocalCache\\local-packages\\Python312\\site-packages\\fastcore\\transform.py:206\u001b[0m, in \u001b[0;36mPipeline.add\u001b[1;34m(self, ts, items, train_setup)\u001b[0m\n\u001b[0;32m    204\u001b[0m \u001b[38;5;28;01mdef\u001b[39;00m \u001b[38;5;21madd\u001b[39m(\u001b[38;5;28mself\u001b[39m,ts, items\u001b[38;5;241m=\u001b[39m\u001b[38;5;28;01mNone\u001b[39;00m, train_setup\u001b[38;5;241m=\u001b[39m\u001b[38;5;28;01mFalse\u001b[39;00m):\n\u001b[0;32m    205\u001b[0m     \u001b[38;5;28;01mif\u001b[39;00m \u001b[38;5;129;01mnot\u001b[39;00m is_listy(ts): ts\u001b[38;5;241m=\u001b[39m[ts]\n\u001b[1;32m--> 206\u001b[0m     \u001b[38;5;28;01mfor\u001b[39;00m t \u001b[38;5;129;01min\u001b[39;00m ts: \u001b[43mt\u001b[49m\u001b[38;5;241;43m.\u001b[39;49m\u001b[43msetup\u001b[49m\u001b[43m(\u001b[49m\u001b[43mitems\u001b[49m\u001b[43m,\u001b[49m\u001b[43m \u001b[49m\u001b[43mtrain_setup\u001b[49m\u001b[43m)\u001b[49m\n\u001b[0;32m    207\u001b[0m     \u001b[38;5;28mself\u001b[39m\u001b[38;5;241m.\u001b[39mfs\u001b[38;5;241m+\u001b[39m\u001b[38;5;241m=\u001b[39mts\n\u001b[0;32m    208\u001b[0m     \u001b[38;5;28mself\u001b[39m\u001b[38;5;241m.\u001b[39mfs \u001b[38;5;241m=\u001b[39m \u001b[38;5;28mself\u001b[39m\u001b[38;5;241m.\u001b[39mfs\u001b[38;5;241m.\u001b[39msorted(key\u001b[38;5;241m=\u001b[39m\u001b[38;5;124m'\u001b[39m\u001b[38;5;124morder\u001b[39m\u001b[38;5;124m'\u001b[39m)\n",
      "File \u001b[1;32m~\\AppData\\Local\\Packages\\PythonSoftwareFoundation.Python.3.12_qbz5n2kfra8p0\\LocalCache\\local-packages\\Python312\\site-packages\\fastcore\\transform.py:89\u001b[0m, in \u001b[0;36mTransform.setup\u001b[1;34m(self, items, train_setup)\u001b[0m\n\u001b[0;32m     87\u001b[0m \u001b[38;5;28;01mdef\u001b[39;00m \u001b[38;5;21msetup\u001b[39m(\u001b[38;5;28mself\u001b[39m, items\u001b[38;5;241m=\u001b[39m\u001b[38;5;28;01mNone\u001b[39;00m, train_setup\u001b[38;5;241m=\u001b[39m\u001b[38;5;28;01mFalse\u001b[39;00m):\n\u001b[0;32m     88\u001b[0m     train_setup \u001b[38;5;241m=\u001b[39m train_setup \u001b[38;5;28;01mif\u001b[39;00m \u001b[38;5;28mself\u001b[39m\u001b[38;5;241m.\u001b[39mtrain_setup \u001b[38;5;129;01mis\u001b[39;00m \u001b[38;5;28;01mNone\u001b[39;00m \u001b[38;5;28;01melse\u001b[39;00m \u001b[38;5;28mself\u001b[39m\u001b[38;5;241m.\u001b[39mtrain_setup\n\u001b[1;32m---> 89\u001b[0m     \u001b[38;5;28;01mreturn\u001b[39;00m \u001b[38;5;28;43mself\u001b[39;49m\u001b[38;5;241;43m.\u001b[39;49m\u001b[43msetups\u001b[49m\u001b[43m(\u001b[49m\u001b[38;5;28;43mgetattr\u001b[39;49m\u001b[43m(\u001b[49m\u001b[43mitems\u001b[49m\u001b[43m,\u001b[49m\u001b[43m \u001b[49m\u001b[38;5;124;43m'\u001b[39;49m\u001b[38;5;124;43mtrain\u001b[39;49m\u001b[38;5;124;43m'\u001b[39;49m\u001b[43m,\u001b[49m\u001b[43m \u001b[49m\u001b[43mitems\u001b[49m\u001b[43m)\u001b[49m\u001b[43m \u001b[49m\u001b[38;5;28;43;01mif\u001b[39;49;00m\u001b[43m \u001b[49m\u001b[43mtrain_setup\u001b[49m\u001b[43m \u001b[49m\u001b[38;5;28;43;01melse\u001b[39;49;00m\u001b[43m \u001b[49m\u001b[43mitems\u001b[49m\u001b[43m)\u001b[49m\n",
      "File \u001b[1;32m~\\AppData\\Local\\Packages\\PythonSoftwareFoundation.Python.3.12_qbz5n2kfra8p0\\LocalCache\\local-packages\\Python312\\site-packages\\fastcore\\dispatch.py:122\u001b[0m, in \u001b[0;36mTypeDispatch.__call__\u001b[1;34m(self, *args, **kwargs)\u001b[0m\n\u001b[0;32m    120\u001b[0m \u001b[38;5;28;01melif\u001b[39;00m \u001b[38;5;28mself\u001b[39m\u001b[38;5;241m.\u001b[39minst \u001b[38;5;129;01mis\u001b[39;00m \u001b[38;5;129;01mnot\u001b[39;00m \u001b[38;5;28;01mNone\u001b[39;00m: f \u001b[38;5;241m=\u001b[39m MethodType(f, \u001b[38;5;28mself\u001b[39m\u001b[38;5;241m.\u001b[39minst)\n\u001b[0;32m    121\u001b[0m \u001b[38;5;28;01melif\u001b[39;00m \u001b[38;5;28mself\u001b[39m\u001b[38;5;241m.\u001b[39mowner \u001b[38;5;129;01mis\u001b[39;00m \u001b[38;5;129;01mnot\u001b[39;00m \u001b[38;5;28;01mNone\u001b[39;00m: f \u001b[38;5;241m=\u001b[39m MethodType(f, \u001b[38;5;28mself\u001b[39m\u001b[38;5;241m.\u001b[39mowner)\n\u001b[1;32m--> 122\u001b[0m \u001b[38;5;28;01mreturn\u001b[39;00m \u001b[43mf\u001b[49m\u001b[43m(\u001b[49m\u001b[38;5;241;43m*\u001b[39;49m\u001b[43margs\u001b[49m\u001b[43m,\u001b[49m\u001b[43m \u001b[49m\u001b[38;5;241;43m*\u001b[39;49m\u001b[38;5;241;43m*\u001b[39;49m\u001b[43mkwargs\u001b[49m\u001b[43m)\u001b[49m\n",
      "File \u001b[1;32m~\\AppData\\Local\\Packages\\PythonSoftwareFoundation.Python.3.12_qbz5n2kfra8p0\\LocalCache\\local-packages\\Python312\\site-packages\\fastai\\text\\core.py:291\u001b[0m, in \u001b[0;36mTokenizer.setups\u001b[1;34m(self, dsets)\u001b[0m\n\u001b[0;32m    289\u001b[0m \u001b[38;5;28;01mdef\u001b[39;00m \u001b[38;5;21msetups\u001b[39m(\u001b[38;5;28mself\u001b[39m, dsets):\n\u001b[0;32m    290\u001b[0m     \u001b[38;5;28;01mif\u001b[39;00m \u001b[38;5;129;01mnot\u001b[39;00m \u001b[38;5;28mself\u001b[39m\u001b[38;5;241m.\u001b[39mmode \u001b[38;5;241m==\u001b[39m \u001b[38;5;124m'\u001b[39m\u001b[38;5;124mdf\u001b[39m\u001b[38;5;124m'\u001b[39m \u001b[38;5;129;01mor\u001b[39;00m \u001b[38;5;129;01mnot\u001b[39;00m \u001b[38;5;28misinstance\u001b[39m(dsets\u001b[38;5;241m.\u001b[39mitems, pd\u001b[38;5;241m.\u001b[39mDataFrame): \u001b[38;5;28;01mreturn\u001b[39;00m\n\u001b[1;32m--> 291\u001b[0m     dsets\u001b[38;5;241m.\u001b[39mitems,count \u001b[38;5;241m=\u001b[39m \u001b[43mtokenize_df\u001b[49m\u001b[43m(\u001b[49m\u001b[43mdsets\u001b[49m\u001b[38;5;241;43m.\u001b[39;49m\u001b[43mitems\u001b[49m\u001b[43m,\u001b[49m\u001b[43m \u001b[49m\u001b[38;5;28;43mself\u001b[39;49m\u001b[38;5;241;43m.\u001b[39;49m\u001b[43mtext_cols\u001b[49m\u001b[43m,\u001b[49m\u001b[43m \u001b[49m\u001b[43mrules\u001b[49m\u001b[38;5;241;43m=\u001b[39;49m\u001b[38;5;28;43mself\u001b[39;49m\u001b[38;5;241;43m.\u001b[39;49m\u001b[43mrules\u001b[49m\u001b[43m,\u001b[49m\u001b[43m \u001b[49m\u001b[38;5;241;43m*\u001b[39;49m\u001b[38;5;241;43m*\u001b[39;49m\u001b[38;5;28;43mself\u001b[39;49m\u001b[38;5;241;43m.\u001b[39;49m\u001b[43mkwargs\u001b[49m\u001b[43m)\u001b[49m\n\u001b[0;32m    292\u001b[0m     \u001b[38;5;28;01mif\u001b[39;00m \u001b[38;5;28mself\u001b[39m\u001b[38;5;241m.\u001b[39mcounter \u001b[38;5;129;01mis\u001b[39;00m \u001b[38;5;28;01mNone\u001b[39;00m: \u001b[38;5;28mself\u001b[39m\u001b[38;5;241m.\u001b[39mcounter \u001b[38;5;241m=\u001b[39m count\n\u001b[0;32m    293\u001b[0m     \u001b[38;5;28;01mif\u001b[39;00m \u001b[38;5;28mself\u001b[39m\u001b[38;5;241m.\u001b[39mlengths \u001b[38;5;129;01mis\u001b[39;00m \u001b[38;5;28;01mNone\u001b[39;00m: \u001b[38;5;28mself\u001b[39m\u001b[38;5;241m.\u001b[39mlengths \u001b[38;5;241m=\u001b[39m dsets\u001b[38;5;241m.\u001b[39mitems[\u001b[38;5;124mf\u001b[39m\u001b[38;5;124m'\u001b[39m\u001b[38;5;132;01m{\u001b[39;00m\u001b[38;5;28mself\u001b[39m\u001b[38;5;241m.\u001b[39mtok_text_col\u001b[38;5;132;01m}\u001b[39;00m\u001b[38;5;124m_length\u001b[39m\u001b[38;5;124m'\u001b[39m]\u001b[38;5;241m.\u001b[39mvalues\n",
      "File \u001b[1;32m~\\AppData\\Local\\Packages\\PythonSoftwareFoundation.Python.3.12_qbz5n2kfra8p0\\LocalCache\\local-packages\\Python312\\site-packages\\fastai\\text\\core.py:223\u001b[0m, in \u001b[0;36mtokenize_df\u001b[1;34m(df, text_cols, n_workers, rules, mark_fields, tok, tok_text_col)\u001b[0m\n\u001b[0;32m    221\u001b[0m rules \u001b[38;5;241m=\u001b[39m L(ifnone(rules, defaults\u001b[38;5;241m.\u001b[39mtext_proc_rules\u001b[38;5;241m.\u001b[39mcopy()))\n\u001b[0;32m    222\u001b[0m texts \u001b[38;5;241m=\u001b[39m _join_texts(df[text_cols], mark_fields\u001b[38;5;241m=\u001b[39mmark_fields)\n\u001b[1;32m--> 223\u001b[0m outputs \u001b[38;5;241m=\u001b[39m \u001b[43mL\u001b[49m\u001b[43m(\u001b[49m\u001b[43mparallel_tokenize\u001b[49m\u001b[43m(\u001b[49m\u001b[43mtexts\u001b[49m\u001b[43m,\u001b[49m\u001b[43m \u001b[49m\u001b[43mtok\u001b[49m\u001b[43m,\u001b[49m\u001b[43m \u001b[49m\u001b[43mrules\u001b[49m\u001b[43m,\u001b[49m\u001b[43m \u001b[49m\u001b[43mn_workers\u001b[49m\u001b[38;5;241;43m=\u001b[39;49m\u001b[43mn_workers\u001b[49m\u001b[43m)\u001b[49m\n\u001b[0;32m    224\u001b[0m \u001b[43m           \u001b[49m\u001b[43m)\u001b[49m\u001b[38;5;241m.\u001b[39msorted()\u001b[38;5;241m.\u001b[39mitemgot(\u001b[38;5;241m1\u001b[39m)\n\u001b[0;32m    226\u001b[0m other_cols \u001b[38;5;241m=\u001b[39m df\u001b[38;5;241m.\u001b[39mcolumns[\u001b[38;5;241m~\u001b[39mdf\u001b[38;5;241m.\u001b[39mcolumns\u001b[38;5;241m.\u001b[39misin(text_cols)]\n\u001b[0;32m    227\u001b[0m res \u001b[38;5;241m=\u001b[39m df[other_cols]\u001b[38;5;241m.\u001b[39mcopy()\n",
      "File \u001b[1;32m~\\AppData\\Local\\Packages\\PythonSoftwareFoundation.Python.3.12_qbz5n2kfra8p0\\LocalCache\\local-packages\\Python312\\site-packages\\fastcore\\foundation.py:100\u001b[0m, in \u001b[0;36m_L_Meta.__call__\u001b[1;34m(cls, x, *args, **kwargs)\u001b[0m\n\u001b[0;32m     98\u001b[0m \u001b[38;5;28;01mdef\u001b[39;00m \u001b[38;5;21m__call__\u001b[39m(\u001b[38;5;28mcls\u001b[39m, x\u001b[38;5;241m=\u001b[39m\u001b[38;5;28;01mNone\u001b[39;00m, \u001b[38;5;241m*\u001b[39margs, \u001b[38;5;241m*\u001b[39m\u001b[38;5;241m*\u001b[39mkwargs):\n\u001b[0;32m     99\u001b[0m     \u001b[38;5;28;01mif\u001b[39;00m \u001b[38;5;129;01mnot\u001b[39;00m args \u001b[38;5;129;01mand\u001b[39;00m \u001b[38;5;129;01mnot\u001b[39;00m kwargs \u001b[38;5;129;01mand\u001b[39;00m x \u001b[38;5;129;01mis\u001b[39;00m \u001b[38;5;129;01mnot\u001b[39;00m \u001b[38;5;28;01mNone\u001b[39;00m \u001b[38;5;129;01mand\u001b[39;00m \u001b[38;5;28misinstance\u001b[39m(x,\u001b[38;5;28mcls\u001b[39m): \u001b[38;5;28;01mreturn\u001b[39;00m x\n\u001b[1;32m--> 100\u001b[0m     \u001b[38;5;28;01mreturn\u001b[39;00m \u001b[38;5;28;43msuper\u001b[39;49m\u001b[43m(\u001b[49m\u001b[43m)\u001b[49m\u001b[38;5;241;43m.\u001b[39;49m\u001b[38;5;21;43m__call__\u001b[39;49m\u001b[43m(\u001b[49m\u001b[43mx\u001b[49m\u001b[43m,\u001b[49m\u001b[43m \u001b[49m\u001b[38;5;241;43m*\u001b[39;49m\u001b[43margs\u001b[49m\u001b[43m,\u001b[49m\u001b[43m \u001b[49m\u001b[38;5;241;43m*\u001b[39;49m\u001b[38;5;241;43m*\u001b[39;49m\u001b[43mkwargs\u001b[49m\u001b[43m)\u001b[49m\n",
      "File \u001b[1;32m~\\AppData\\Local\\Packages\\PythonSoftwareFoundation.Python.3.12_qbz5n2kfra8p0\\LocalCache\\local-packages\\Python312\\site-packages\\fastcore\\foundation.py:108\u001b[0m, in \u001b[0;36mL.__init__\u001b[1;34m(self, items, use_list, match, *rest)\u001b[0m\n\u001b[0;32m    106\u001b[0m \u001b[38;5;28;01mdef\u001b[39;00m \u001b[38;5;21m__init__\u001b[39m(\u001b[38;5;28mself\u001b[39m, items\u001b[38;5;241m=\u001b[39m\u001b[38;5;28;01mNone\u001b[39;00m, \u001b[38;5;241m*\u001b[39mrest, use_list\u001b[38;5;241m=\u001b[39m\u001b[38;5;28;01mFalse\u001b[39;00m, match\u001b[38;5;241m=\u001b[39m\u001b[38;5;28;01mNone\u001b[39;00m):\n\u001b[0;32m    107\u001b[0m     \u001b[38;5;28;01mif\u001b[39;00m (use_list \u001b[38;5;129;01mis\u001b[39;00m \u001b[38;5;129;01mnot\u001b[39;00m \u001b[38;5;28;01mNone\u001b[39;00m) \u001b[38;5;129;01mor\u001b[39;00m \u001b[38;5;129;01mnot\u001b[39;00m is_array(items):\n\u001b[1;32m--> 108\u001b[0m         items \u001b[38;5;241m=\u001b[39m \u001b[43mlistify\u001b[49m\u001b[43m(\u001b[49m\u001b[43mitems\u001b[49m\u001b[43m,\u001b[49m\u001b[43m \u001b[49m\u001b[38;5;241;43m*\u001b[39;49m\u001b[43mrest\u001b[49m\u001b[43m,\u001b[49m\u001b[43m \u001b[49m\u001b[43muse_list\u001b[49m\u001b[38;5;241;43m=\u001b[39;49m\u001b[43muse_list\u001b[49m\u001b[43m,\u001b[49m\u001b[43m \u001b[49m\u001b[43mmatch\u001b[49m\u001b[38;5;241;43m=\u001b[39;49m\u001b[43mmatch\u001b[49m\u001b[43m)\u001b[49m\n\u001b[0;32m    109\u001b[0m     \u001b[38;5;28msuper\u001b[39m()\u001b[38;5;241m.\u001b[39m\u001b[38;5;21m__init__\u001b[39m(items)\n",
      "File \u001b[1;32m~\\AppData\\Local\\Packages\\PythonSoftwareFoundation.Python.3.12_qbz5n2kfra8p0\\LocalCache\\local-packages\\Python312\\site-packages\\fastcore\\basics.py:79\u001b[0m, in \u001b[0;36mlistify\u001b[1;34m(o, use_list, match, *rest)\u001b[0m\n\u001b[0;32m     77\u001b[0m \u001b[38;5;28;01melif\u001b[39;00m \u001b[38;5;28misinstance\u001b[39m(o, \u001b[38;5;28mlist\u001b[39m): res \u001b[38;5;241m=\u001b[39m o\n\u001b[0;32m     78\u001b[0m \u001b[38;5;28;01melif\u001b[39;00m \u001b[38;5;28misinstance\u001b[39m(o, \u001b[38;5;28mstr\u001b[39m) \u001b[38;5;129;01mor\u001b[39;00m \u001b[38;5;28misinstance\u001b[39m(o, \u001b[38;5;28mbytes\u001b[39m) \u001b[38;5;129;01mor\u001b[39;00m is_array(o): res \u001b[38;5;241m=\u001b[39m [o]\n\u001b[1;32m---> 79\u001b[0m \u001b[38;5;28;01melif\u001b[39;00m is_iter(o): res \u001b[38;5;241m=\u001b[39m \u001b[38;5;28;43mlist\u001b[39;49m\u001b[43m(\u001b[49m\u001b[43mo\u001b[49m\u001b[43m)\u001b[49m\n\u001b[0;32m     80\u001b[0m \u001b[38;5;28;01melse\u001b[39;00m: res \u001b[38;5;241m=\u001b[39m [o]\n\u001b[0;32m     81\u001b[0m \u001b[38;5;28;01mif\u001b[39;00m match \u001b[38;5;129;01mis\u001b[39;00m \u001b[38;5;129;01mnot\u001b[39;00m \u001b[38;5;28;01mNone\u001b[39;00m:\n",
      "File \u001b[1;32m~\\AppData\\Local\\Packages\\PythonSoftwareFoundation.Python.3.12_qbz5n2kfra8p0\\LocalCache\\local-packages\\Python312\\site-packages\\fastcore\\parallel.py:177\u001b[0m, in \u001b[0;36mparallel_gen\u001b[1;34m(cls, items, n_workers, **kwargs)\u001b[0m\n\u001b[0;32m    175\u001b[0m \u001b[38;5;28;01mif\u001b[39;00m \u001b[38;5;129;01mnot\u001b[39;00m parallelable(\u001b[38;5;124m'\u001b[39m\u001b[38;5;124mn_workers\u001b[39m\u001b[38;5;124m'\u001b[39m, n_workers): n_workers \u001b[38;5;241m=\u001b[39m \u001b[38;5;241m0\u001b[39m\n\u001b[0;32m    176\u001b[0m \u001b[38;5;28;01mif\u001b[39;00m n_workers\u001b[38;5;241m==\u001b[39m\u001b[38;5;241m0\u001b[39m:\n\u001b[1;32m--> 177\u001b[0m     \u001b[38;5;28;01myield from\u001b[39;00m \u001b[38;5;28menumerate\u001b[39m(\u001b[38;5;28;43mlist\u001b[39;49m\u001b[43m(\u001b[49m\u001b[38;5;28;43mcls\u001b[39;49m\u001b[43m(\u001b[49m\u001b[38;5;241;43m*\u001b[39;49m\u001b[38;5;241;43m*\u001b[39;49m\u001b[43mkwargs\u001b[49m\u001b[43m)\u001b[49m\u001b[43m(\u001b[49m\u001b[43mitems\u001b[49m\u001b[43m)\u001b[49m\u001b[43m)\u001b[49m)\n\u001b[0;32m    178\u001b[0m     \u001b[38;5;28;01mreturn\u001b[39;00m\n\u001b[0;32m    179\u001b[0m batches \u001b[38;5;241m=\u001b[39m L(chunked(items, n_chunks\u001b[38;5;241m=\u001b[39mn_workers))\n",
      "File \u001b[1;32m~\\AppData\\Local\\Packages\\PythonSoftwareFoundation.Python.3.12_qbz5n2kfra8p0\\LocalCache\\local-packages\\Python312\\site-packages\\fastai\\text\\core.py:140\u001b[0m, in \u001b[0;36m<genexpr>\u001b[1;34m(.0)\u001b[0m\n\u001b[0;32m    139\u001b[0m \u001b[38;5;28;01mdef\u001b[39;00m \u001b[38;5;21m__call__\u001b[39m(\u001b[38;5;28mself\u001b[39m, batch):\n\u001b[1;32m--> 140\u001b[0m     \u001b[38;5;28;01mreturn\u001b[39;00m (L(o)\u001b[38;5;241m.\u001b[39mmap(\u001b[38;5;28mself\u001b[39m\u001b[38;5;241m.\u001b[39mpost_f) \u001b[38;5;28;01mfor\u001b[39;00m o \u001b[38;5;129;01min\u001b[39;00m \u001b[38;5;28mself\u001b[39m\u001b[38;5;241m.\u001b[39mtok(maps(\u001b[38;5;241m*\u001b[39m\u001b[38;5;28mself\u001b[39m\u001b[38;5;241m.\u001b[39mrules, batch)))\n",
      "File \u001b[1;32m~\\AppData\\Local\\Packages\\PythonSoftwareFoundation.Python.3.12_qbz5n2kfra8p0\\LocalCache\\local-packages\\Python312\\site-packages\\fastai\\text\\core.py:126\u001b[0m, in \u001b[0;36m<genexpr>\u001b[1;34m(.0)\u001b[0m\n\u001b[0;32m    125\u001b[0m \u001b[38;5;28;01mdef\u001b[39;00m \u001b[38;5;21m__call__\u001b[39m(\u001b[38;5;28mself\u001b[39m, items):\n\u001b[1;32m--> 126\u001b[0m     \u001b[38;5;28;01mreturn\u001b[39;00m (\u001b[43mL\u001b[49m\u001b[43m(\u001b[49m\u001b[43mdoc\u001b[49m\u001b[43m)\u001b[49m\u001b[38;5;241;43m.\u001b[39;49m\u001b[43mattrgot\u001b[49m\u001b[43m(\u001b[49m\u001b[38;5;124;43m'\u001b[39;49m\u001b[38;5;124;43mtext\u001b[39;49m\u001b[38;5;124;43m'\u001b[39;49m\u001b[43m)\u001b[49m \u001b[38;5;28;01mfor\u001b[39;00m doc \u001b[38;5;129;01min\u001b[39;00m \u001b[38;5;28mself\u001b[39m\u001b[38;5;241m.\u001b[39mpipe(\u001b[38;5;28mmap\u001b[39m(\u001b[38;5;28mstr\u001b[39m,items), batch_size\u001b[38;5;241m=\u001b[39m\u001b[38;5;28mself\u001b[39m\u001b[38;5;241m.\u001b[39mbuf_sz))\n",
      "File \u001b[1;32m~\\AppData\\Local\\Packages\\PythonSoftwareFoundation.Python.3.12_qbz5n2kfra8p0\\LocalCache\\local-packages\\Python312\\site-packages\\fastcore\\foundation.py:186\u001b[0m, in \u001b[0;36mL.attrgot\u001b[1;34m(self, k, default)\u001b[0m\n\u001b[0;32m    185\u001b[0m \u001b[38;5;28;01mdef\u001b[39;00m \u001b[38;5;21mattrgot\u001b[39m(\u001b[38;5;28mself\u001b[39m, k, default\u001b[38;5;241m=\u001b[39m\u001b[38;5;28;01mNone\u001b[39;00m):\n\u001b[1;32m--> 186\u001b[0m     \u001b[38;5;28;01mreturn\u001b[39;00m \u001b[38;5;28;43mself\u001b[39;49m\u001b[38;5;241;43m.\u001b[39;49m\u001b[43mmap\u001b[49m\u001b[43m(\u001b[49m\u001b[38;5;28;43;01mlambda\u001b[39;49;00m\u001b[43m \u001b[49m\u001b[43mo\u001b[49m\u001b[43m:\u001b[49m\u001b[43m \u001b[49m\u001b[43mo\u001b[49m\u001b[38;5;241;43m.\u001b[39;49m\u001b[43mget\u001b[49m\u001b[43m(\u001b[49m\u001b[43mk\u001b[49m\u001b[43m,\u001b[49m\u001b[43mdefault\u001b[49m\u001b[43m)\u001b[49m\u001b[43m \u001b[49m\u001b[38;5;28;43;01mif\u001b[39;49;00m\u001b[43m \u001b[49m\u001b[38;5;28;43misinstance\u001b[39;49m\u001b[43m(\u001b[49m\u001b[43mo\u001b[49m\u001b[43m,\u001b[49m\u001b[43m \u001b[49m\u001b[38;5;28;43mdict\u001b[39;49m\u001b[43m)\u001b[49m\u001b[43m \u001b[49m\u001b[38;5;28;43;01melse\u001b[39;49;00m\u001b[43m \u001b[49m\u001b[43mnested_attr\u001b[49m\u001b[43m(\u001b[49m\u001b[43mo\u001b[49m\u001b[43m,\u001b[49m\u001b[43mk\u001b[49m\u001b[43m,\u001b[49m\u001b[43mdefault\u001b[49m\u001b[43m)\u001b[49m\u001b[43m)\u001b[49m\n",
      "File \u001b[1;32m~\\AppData\\Local\\Packages\\PythonSoftwareFoundation.Python.3.12_qbz5n2kfra8p0\\LocalCache\\local-packages\\Python312\\site-packages\\fastcore\\foundation.py:163\u001b[0m, in \u001b[0;36mL.map\u001b[1;34m(self, f, *args, **kwargs)\u001b[0m\n\u001b[1;32m--> 163\u001b[0m \u001b[38;5;28;01mdef\u001b[39;00m \u001b[38;5;21mmap\u001b[39m(\u001b[38;5;28mself\u001b[39m, f, \u001b[38;5;241m*\u001b[39margs, \u001b[38;5;241m*\u001b[39m\u001b[38;5;241m*\u001b[39mkwargs): \u001b[38;5;28;01mreturn\u001b[39;00m \u001b[38;5;28mself\u001b[39m\u001b[38;5;241m.\u001b[39m_new(\u001b[43mmap_ex\u001b[49m\u001b[43m(\u001b[49m\u001b[38;5;28;43mself\u001b[39;49m\u001b[43m,\u001b[49m\u001b[43m \u001b[49m\u001b[43mf\u001b[49m\u001b[43m,\u001b[49m\u001b[43m \u001b[49m\u001b[38;5;241;43m*\u001b[39;49m\u001b[43margs\u001b[49m\u001b[43m,\u001b[49m\u001b[43m \u001b[49m\u001b[43mgen\u001b[49m\u001b[38;5;241;43m=\u001b[39;49m\u001b[38;5;28;43;01mFalse\u001b[39;49;00m\u001b[43m,\u001b[49m\u001b[43m \u001b[49m\u001b[38;5;241;43m*\u001b[39;49m\u001b[38;5;241;43m*\u001b[39;49m\u001b[43mkwargs\u001b[49m\u001b[43m)\u001b[49m)\n",
      "File \u001b[1;32m~\\AppData\\Local\\Packages\\PythonSoftwareFoundation.Python.3.12_qbz5n2kfra8p0\\LocalCache\\local-packages\\Python312\\site-packages\\fastcore\\basics.py:927\u001b[0m, in \u001b[0;36mmap_ex\u001b[1;34m(iterable, f, gen, *args, **kwargs)\u001b[0m\n\u001b[0;32m    925\u001b[0m res \u001b[38;5;241m=\u001b[39m \u001b[38;5;28mmap\u001b[39m(g, iterable)\n\u001b[0;32m    926\u001b[0m \u001b[38;5;28;01mif\u001b[39;00m gen: \u001b[38;5;28;01mreturn\u001b[39;00m res\n\u001b[1;32m--> 927\u001b[0m \u001b[38;5;28;01mreturn\u001b[39;00m \u001b[38;5;28;43mlist\u001b[39;49m\u001b[43m(\u001b[49m\u001b[43mres\u001b[49m\u001b[43m)\u001b[49m\n",
      "File \u001b[1;32m~\\AppData\\Local\\Packages\\PythonSoftwareFoundation.Python.3.12_qbz5n2kfra8p0\\LocalCache\\local-packages\\Python312\\site-packages\\fastcore\\basics.py:912\u001b[0m, in \u001b[0;36mbind.__call__\u001b[1;34m(self, *args, **kwargs)\u001b[0m\n\u001b[0;32m    910\u001b[0m     \u001b[38;5;28;01mif\u001b[39;00m \u001b[38;5;28misinstance\u001b[39m(v,_Arg): kwargs[k] \u001b[38;5;241m=\u001b[39m args\u001b[38;5;241m.\u001b[39mpop(v\u001b[38;5;241m.\u001b[39mi)\n\u001b[0;32m    911\u001b[0m fargs \u001b[38;5;241m=\u001b[39m [args[x\u001b[38;5;241m.\u001b[39mi] \u001b[38;5;28;01mif\u001b[39;00m \u001b[38;5;28misinstance\u001b[39m(x, _Arg) \u001b[38;5;28;01melse\u001b[39;00m x \u001b[38;5;28;01mfor\u001b[39;00m x \u001b[38;5;129;01min\u001b[39;00m \u001b[38;5;28mself\u001b[39m\u001b[38;5;241m.\u001b[39mpargs] \u001b[38;5;241m+\u001b[39m args[\u001b[38;5;28mself\u001b[39m\u001b[38;5;241m.\u001b[39mmaxi\u001b[38;5;241m+\u001b[39m\u001b[38;5;241m1\u001b[39m:]\n\u001b[1;32m--> 912\u001b[0m \u001b[38;5;28;01mreturn\u001b[39;00m \u001b[38;5;28;43mself\u001b[39;49m\u001b[38;5;241;43m.\u001b[39;49m\u001b[43mfunc\u001b[49m\u001b[43m(\u001b[49m\u001b[38;5;241;43m*\u001b[39;49m\u001b[43mfargs\u001b[49m\u001b[43m,\u001b[49m\u001b[43m \u001b[49m\u001b[38;5;241;43m*\u001b[39;49m\u001b[38;5;241;43m*\u001b[39;49m\u001b[43mkwargs\u001b[49m\u001b[43m)\u001b[49m\n",
      "File \u001b[1;32m~\\AppData\\Local\\Packages\\PythonSoftwareFoundation.Python.3.12_qbz5n2kfra8p0\\LocalCache\\local-packages\\Python312\\site-packages\\fastcore\\foundation.py:186\u001b[0m, in \u001b[0;36mL.attrgot.<locals>.<lambda>\u001b[1;34m(o)\u001b[0m\n\u001b[0;32m    185\u001b[0m \u001b[38;5;28;01mdef\u001b[39;00m \u001b[38;5;21mattrgot\u001b[39m(\u001b[38;5;28mself\u001b[39m, k, default\u001b[38;5;241m=\u001b[39m\u001b[38;5;28;01mNone\u001b[39;00m):\n\u001b[1;32m--> 186\u001b[0m     \u001b[38;5;28;01mreturn\u001b[39;00m \u001b[38;5;28mself\u001b[39m\u001b[38;5;241m.\u001b[39mmap(\u001b[38;5;28;01mlambda\u001b[39;00m o: o\u001b[38;5;241m.\u001b[39mget(k,default) \u001b[38;5;28;01mif\u001b[39;00m \u001b[38;5;28misinstance\u001b[39m(o, \u001b[38;5;28mdict\u001b[39m) \u001b[38;5;28;01melse\u001b[39;00m \u001b[43mnested_attr\u001b[49m\u001b[43m(\u001b[49m\u001b[43mo\u001b[49m\u001b[43m,\u001b[49m\u001b[43mk\u001b[49m\u001b[43m,\u001b[49m\u001b[43mdefault\u001b[49m\u001b[43m)\u001b[49m)\n",
      "File \u001b[1;32m~\\AppData\\Local\\Packages\\PythonSoftwareFoundation.Python.3.12_qbz5n2kfra8p0\\LocalCache\\local-packages\\Python312\\site-packages\\fastcore\\basics.py:743\u001b[0m, in \u001b[0;36mnested_attr\u001b[1;34m(o, attr, default)\u001b[0m\n\u001b[0;32m    741\u001b[0m \u001b[38;5;28;01mtry\u001b[39;00m:\n\u001b[0;32m    742\u001b[0m     \u001b[38;5;28;01mfor\u001b[39;00m a \u001b[38;5;129;01min\u001b[39;00m attr\u001b[38;5;241m.\u001b[39msplit(\u001b[38;5;124m\"\u001b[39m\u001b[38;5;124m.\u001b[39m\u001b[38;5;124m\"\u001b[39m): \n\u001b[1;32m--> 743\u001b[0m         \u001b[38;5;28;01mif\u001b[39;00m \u001b[38;5;28mhasattr\u001b[39m(o,a): o \u001b[38;5;241m=\u001b[39m \u001b[38;5;28;43mgetattr\u001b[39;49m\u001b[43m(\u001b[49m\u001b[43mo\u001b[49m\u001b[43m,\u001b[49m\u001b[43m \u001b[49m\u001b[43ma\u001b[49m\u001b[43m)\u001b[49m\n\u001b[0;32m    744\u001b[0m         \u001b[38;5;28;01melse\u001b[39;00m: o \u001b[38;5;241m=\u001b[39m o[a]\n\u001b[0;32m    745\u001b[0m \u001b[38;5;28;01mexcept\u001b[39;00m (\u001b[38;5;167;01mAttributeError\u001b[39;00m, \u001b[38;5;167;01mKeyError\u001b[39;00m,\u001b[38;5;167;01mIndexError\u001b[39;00m, \u001b[38;5;167;01mTypeError\u001b[39;00m, \u001b[38;5;167;01mValueError\u001b[39;00m):\n",
      "\u001b[1;31mKeyboardInterrupt\u001b[0m: "
     ]
    }
   ],
   "source": [
    "dblock = DataBlock(\n",
    "    blocks=(TextBlock.from_df('statement', seq_len=128), CategoryBlock),  # Text & Labels\n",
    "    get_x=ColReader('statement'),  # Feature column\n",
    "    get_y=ColReader('truth'),  # Label column\n",
    "    splitter=RandomSplitter(valid_pct=0.2)  # Split into train/validation sets\n",
    ")\n",
    "print(dblock.datasets(df).items)\n",
    "# Load data into DataLoader\n",
    "dls = dblock.dataloaders(df, bs=16)"
   ]
  },
  {
   "cell_type": "code",
   "execution_count": null,
   "id": "091dffa9-7788-4e36-9e96-0d7324c0528d",
   "metadata": {},
   "outputs": [],
   "source": [
    "learn = text_classifier_learner(dls, AWD_LSTM, metrics=[accuracy])"
   ]
  },
  {
   "cell_type": "code",
   "execution_count": null,
   "id": "c4736365-caf7-491f-a503-d653b32f8558",
   "metadata": {},
   "outputs": [],
   "source": [
    "from fastai.callback.transformers import HF_TextBlock, HF_Trainer\n",
    "\n",
    "# Define Hugging Face tokenizer and model\n",
    "hf_model = 'bert-base-uncased'\n",
    "dblock = DataBlock(\n",
    "    blocks=(HF_TextBlock(hf_model), CategoryBlock),\n",
    "    get_x=ColReader('text'),\n",
    "    get_y=ColReader('label'),\n",
    "    splitter=RandomSplitter(valid_pct=0.2)\n",
    ")\n",
    "\n",
    "dls = dblock.dataloaders(data, bs=16)\n",
    "learn = HF_Trainer(dls, model=AutoModelForSequenceClassification.from_pretrained(hf_model, num_labels=2), metrics=[accuracy])"
   ]
  },
  {
   "cell_type": "code",
   "execution_count": null,
   "id": "ac652b8f-039d-4cea-92c6-a38fdfd8856d",
   "metadata": {},
   "outputs": [],
   "source": [
    "learn.fit_one_cycle(3, .0002)"
   ]
  },
  {
   "cell_type": "code",
   "execution_count": null,
   "id": "13cff7c4-21cf-45c1-a6b3-95731a694f59",
   "metadata": {},
   "outputs": [],
   "source": [
    "learn.validate()"
   ]
  },
  {
   "cell_type": "code",
   "execution_count": 58,
   "id": "941e8672-e902-4df3-8335-37d2eef6ede5",
   "metadata": {},
   "outputs": [
    {
     "name": "stdout",
     "output_type": "stream",
     "text": [
      "<class 'torch.Tensor'> <class 'torch.Tensor'> <class 'torch.Tensor'>\n"
     ]
    }
   ],
   "source": [
    "# Get one batch from your train_dataloader\n",
    "\"\"\"batch = next(iter(train_dl))\n",
    "\n",
    "# If your batch is something like (input_ids, attention_mask, labels):\n",
    "input_ids, attention_mask, labels = batch\n",
    "\n",
    "# Now check their types:\n",
    "print(type(input_ids), type(attention_mask), type(labels))\"\"\""
   ]
  },
  {
   "cell_type": "code",
   "execution_count": 59,
   "id": "fb9e221d-5d34-4345-8215-e1bded327171",
   "metadata": {},
   "outputs": [
    {
     "name": "stderr",
     "output_type": "stream",
     "text": [
      "Some weights of MyMobileBert were not initialized from the model checkpoint at google/mobilebert-uncased and are newly initialized: ['classifier.bias', 'classifier.weight']\n",
      "You should probably TRAIN this model on a down-stream task to be able to use it for predictions and inference.\n"
     ]
    }
   ],
   "source": [
    "from transformers import MobileBertForSequenceClassification\n",
    "\n",
    "class MyMobileBert(MobileBertForSequenceClassification):\n",
    "    def forward(self, input_ids=None, attention_mask=None, labels=None, return_loss=False, **kwargs):\n",
    "        outputs = super().forward(\n",
    "            input_ids=input_ids,\n",
    "            attention_mask=attention_mask,\n",
    "            labels=labels,\n",
    "            **kwargs\n",
    "        )\n",
    "        if return_loss and labels is not None:\n",
    "            return outputs.logits, outputs.loss\n",
    "        # Return only the logits, which is what the fastai Learner will treat as predictions\n",
    "        return outputs.logits\n",
    "\n",
    "\n",
    "# Then instantiate:\n",
    "model = MyMobileBert.from_pretrained(\"google/mobilebert-uncased\", num_labels=2)"
   ]
  },
  {
   "cell_type": "code",
   "execution_count": 60,
   "id": "31cc296c-1788-4dfb-9b61-971f784d99e0",
   "metadata": {},
   "outputs": [],
   "source": [
    "from fastai.optimizer import Adam"
   ]
  },
  {
   "cell_type": "code",
   "execution_count": 61,
   "id": "fcaa050c-0458-4499-9926-6606c15f368f",
   "metadata": {
    "scrolled": true
   },
   "outputs": [
    {
     "data": {
      "text/html": [
       "\n",
       "<style>\n",
       "    /* Turns off some styling */\n",
       "    progress {\n",
       "        /* gets rid of default border in Firefox and Opera. */\n",
       "        border: none;\n",
       "        /* Needs to be in here for Safari polyfill so background images work as expected. */\n",
       "        background-size: auto;\n",
       "    }\n",
       "    progress:not([value]), progress:not([value])::-webkit-progress-bar {\n",
       "        background: repeating-linear-gradient(45deg, #7e7e7e, #7e7e7e 10px, #5c5c5c 10px, #5c5c5c 20px);\n",
       "    }\n",
       "    .progress-bar-interrupted, .progress-bar-interrupted::-webkit-progress-bar {\n",
       "        background: #F44336;\n",
       "    }\n",
       "</style>\n"
      ],
      "text/plain": [
       "<IPython.core.display.HTML object>"
      ]
     },
     "metadata": {},
     "output_type": "display_data"
    },
    {
     "data": {
      "text/html": [],
      "text/plain": [
       "<IPython.core.display.HTML object>"
      ]
     },
     "metadata": {},
     "output_type": "display_data"
    },
    {
     "name": "stderr",
     "output_type": "stream",
     "text": [
      "C:\\Users\\kazuj\\AppData\\Local\\Packages\\PythonSoftwareFoundation.Python.3.12_qbz5n2kfra8p0\\LocalCache\\local-packages\\Python312\\site-packages\\fastai\\learner.py:53: FutureWarning: You are using `torch.load` with `weights_only=False` (the current default value), which uses the default pickle module implicitly. It is possible to construct malicious pickle data which will execute arbitrary code during unpickling (See https://github.com/pytorch/pytorch/blob/main/SECURITY.md#untrusted-models for more details). In a future release, the default value for `weights_only` will be flipped to `True`. This limits the functions that could be executed during unpickling. Arbitrary objects will no longer be allowed to be loaded via this mode unless they are explicitly allowlisted by the user via `torch.serialization.add_safe_globals`. We recommend you start setting `weights_only=True` for any use case where you don't have full control of the loaded file. Please open an issue on GitHub for any issues related to this experimental feature.\n",
      "  state = torch.load(file, map_location=device, **torch_load_kwargs)\n"
     ]
    },
    {
     "name": "stdout",
     "output_type": "stream",
     "text": [
      "lr_find results: SuggestedLRs(valley=0.0002290867705596611)\n"
     ]
    },
    {
     "data": {
      "image/png": "[encoded data removed]",
      "text/plain": [
       "<Figure size 640x480 with 1 Axes>"
      ]
     },
     "metadata": {},
     "output_type": "display_data"
    }
   ],
   "source": [
    "learn = Learner(\n",
    "    dls,\n",
    "    model,\n",
    "    loss_func=CrossEntropyLossFlat(),\n",
    "    metrics=accuracy,\n",
    ")\n",
    "\n",
    "# 9) Use lr_find()\n",
    "lr = learn.lr_find()\n",
    "print(\"lr_find results:\", lr)"
   ]
  },
  {
   "cell_type": "code",
   "execution_count": 62,
   "id": "876287c7-f9b0-48bd-ac49-9aa9851826ce",
   "metadata": {},
   "outputs": [
    {
     "name": "stderr",
     "output_type": "stream",
     "text": [
      "C:\\Users\\kazuj\\AppData\\Local\\Packages\\PythonSoftwareFoundation.Python.3.12_qbz5n2kfra8p0\\LocalCache\\local-packages\\Python312\\site-packages\\transformers\\optimization.py:591: FutureWarning: This implementation of AdamW is deprecated and will be removed in a future version. Use the PyTorch implementation torch.optim.AdamW instead, or set `no_deprecation_warning=True` to disable this warning\n",
      "  warnings.warn(\n"
     ]
    }
   ],
   "source": [
    "from transformers import AdamW\n",
    "\n",
    "# Initialize the optimizer\n",
    "optimizer = AdamW(model.parameters(), lr=lr.valley)"
   ]
  },
  {
   "cell_type": "code",
   "execution_count": 65,
   "id": "9e5d190b-d929-4dd0-a3cb-c3c685797d9f",
   "metadata": {},
   "outputs": [
    {
     "name": "stdout",
     "output_type": "stream",
     "text": [
      "0.0002290867705596611\n"
     ]
    }
   ],
   "source": [
    "#lr.valley = .0002"
   ]
  },
  {
   "cell_type": "code",
   "execution_count": 63,
   "id": "438e6b53-7040-4e00-bf47-6fdb2f0666dc",
   "metadata": {},
   "outputs": [],
   "source": [
    "device = torch.device(\"cuda\" if torch.cuda.is_available() else \"cpu\")"
   ]
  },
  {
   "cell_type": "code",
   "execution_count": 64,
   "id": "af0547b4-d398-49cf-8c4f-0a5db85b3612",
   "metadata": {
    "scrolled": true
   },
   "outputs": [
    {
     "ename": "KeyboardInterrupt",
     "evalue": "",
     "output_type": "error",
     "traceback": [
      "\u001b[1;31m---------------------------------------------------------------------------\u001b[0m",
      "\u001b[1;31mKeyboardInterrupt\u001b[0m                         Traceback (most recent call last)",
      "Cell \u001b[1;32mIn[64], line 12\u001b[0m\n\u001b[0;32m     10\u001b[0m     loss \u001b[38;5;241m=\u001b[39m outputs[\u001b[38;5;241m1\u001b[39m]\n\u001b[0;32m     11\u001b[0m     loss\u001b[38;5;241m.\u001b[39mbackward()\n\u001b[1;32m---> 12\u001b[0m     \u001b[43moptimizer\u001b[49m\u001b[38;5;241;43m.\u001b[39;49m\u001b[43mstep\u001b[49m\u001b[43m(\u001b[49m\u001b[43m)\u001b[49m\n\u001b[0;32m     14\u001b[0m \u001b[38;5;66;03m# Validation\u001b[39;00m\n\u001b[0;32m     15\u001b[0m model\u001b[38;5;241m.\u001b[39meval()\n",
      "File \u001b[1;32m~\\AppData\\Local\\Packages\\PythonSoftwareFoundation.Python.3.12_qbz5n2kfra8p0\\LocalCache\\local-packages\\Python312\\site-packages\\torch\\optim\\optimizer.py:487\u001b[0m, in \u001b[0;36mOptimizer.profile_hook_step.<locals>.wrapper\u001b[1;34m(*args, **kwargs)\u001b[0m\n\u001b[0;32m    482\u001b[0m         \u001b[38;5;28;01melse\u001b[39;00m:\n\u001b[0;32m    483\u001b[0m             \u001b[38;5;28;01mraise\u001b[39;00m \u001b[38;5;167;01mRuntimeError\u001b[39;00m(\n\u001b[0;32m    484\u001b[0m                 \u001b[38;5;124mf\u001b[39m\u001b[38;5;124m\"\u001b[39m\u001b[38;5;132;01m{\u001b[39;00mfunc\u001b[38;5;132;01m}\u001b[39;00m\u001b[38;5;124m must return None or a tuple of (new_args, new_kwargs), but got \u001b[39m\u001b[38;5;132;01m{\u001b[39;00mresult\u001b[38;5;132;01m}\u001b[39;00m\u001b[38;5;124m.\u001b[39m\u001b[38;5;124m\"\u001b[39m\n\u001b[0;32m    485\u001b[0m             )\n\u001b[1;32m--> 487\u001b[0m out \u001b[38;5;241m=\u001b[39m \u001b[43mfunc\u001b[49m\u001b[43m(\u001b[49m\u001b[38;5;241;43m*\u001b[39;49m\u001b[43margs\u001b[49m\u001b[43m,\u001b[49m\u001b[43m \u001b[49m\u001b[38;5;241;43m*\u001b[39;49m\u001b[38;5;241;43m*\u001b[39;49m\u001b[43mkwargs\u001b[49m\u001b[43m)\u001b[49m\n\u001b[0;32m    488\u001b[0m \u001b[38;5;28mself\u001b[39m\u001b[38;5;241m.\u001b[39m_optimizer_step_code()\n\u001b[0;32m    490\u001b[0m \u001b[38;5;66;03m# call optimizer step post hooks\u001b[39;00m\n",
      "File \u001b[1;32m~\\AppData\\Local\\Packages\\PythonSoftwareFoundation.Python.3.12_qbz5n2kfra8p0\\LocalCache\\local-packages\\Python312\\site-packages\\torch\\utils\\_contextlib.py:116\u001b[0m, in \u001b[0;36mcontext_decorator.<locals>.decorate_context\u001b[1;34m(*args, **kwargs)\u001b[0m\n\u001b[0;32m    113\u001b[0m \u001b[38;5;129m@functools\u001b[39m\u001b[38;5;241m.\u001b[39mwraps(func)\n\u001b[0;32m    114\u001b[0m \u001b[38;5;28;01mdef\u001b[39;00m \u001b[38;5;21mdecorate_context\u001b[39m(\u001b[38;5;241m*\u001b[39margs, \u001b[38;5;241m*\u001b[39m\u001b[38;5;241m*\u001b[39mkwargs):\n\u001b[0;32m    115\u001b[0m     \u001b[38;5;28;01mwith\u001b[39;00m ctx_factory():\n\u001b[1;32m--> 116\u001b[0m         \u001b[38;5;28;01mreturn\u001b[39;00m \u001b[43mfunc\u001b[49m\u001b[43m(\u001b[49m\u001b[38;5;241;43m*\u001b[39;49m\u001b[43margs\u001b[49m\u001b[43m,\u001b[49m\u001b[43m \u001b[49m\u001b[38;5;241;43m*\u001b[39;49m\u001b[38;5;241;43m*\u001b[39;49m\u001b[43mkwargs\u001b[49m\u001b[43m)\u001b[49m\n",
      "File \u001b[1;32m~\\AppData\\Local\\Packages\\PythonSoftwareFoundation.Python.3.12_qbz5n2kfra8p0\\LocalCache\\local-packages\\Python312\\site-packages\\transformers\\optimization.py:656\u001b[0m, in \u001b[0;36mAdamW.step\u001b[1;34m(self, closure)\u001b[0m\n\u001b[0;32m    653\u001b[0m     bias_correction2 \u001b[38;5;241m=\u001b[39m \u001b[38;5;241m1.0\u001b[39m \u001b[38;5;241m-\u001b[39m beta2 \u001b[38;5;241m*\u001b[39m\u001b[38;5;241m*\u001b[39m state[\u001b[38;5;124m\"\u001b[39m\u001b[38;5;124mstep\u001b[39m\u001b[38;5;124m\"\u001b[39m]\n\u001b[0;32m    654\u001b[0m     step_size \u001b[38;5;241m=\u001b[39m step_size \u001b[38;5;241m*\u001b[39m math\u001b[38;5;241m.\u001b[39msqrt(bias_correction2) \u001b[38;5;241m/\u001b[39m bias_correction1\n\u001b[1;32m--> 656\u001b[0m \u001b[43mp\u001b[49m\u001b[38;5;241;43m.\u001b[39;49m\u001b[43maddcdiv_\u001b[49m\u001b[43m(\u001b[49m\u001b[43mexp_avg\u001b[49m\u001b[43m,\u001b[49m\u001b[43m \u001b[49m\u001b[43mdenom\u001b[49m\u001b[43m,\u001b[49m\u001b[43m \u001b[49m\u001b[43mvalue\u001b[49m\u001b[38;5;241;43m=\u001b[39;49m\u001b[38;5;241;43m-\u001b[39;49m\u001b[43mstep_size\u001b[49m\u001b[43m)\u001b[49m\n\u001b[0;32m    658\u001b[0m \u001b[38;5;66;03m# Just adding the square of the weights to the loss function is *not*\u001b[39;00m\n\u001b[0;32m    659\u001b[0m \u001b[38;5;66;03m# the correct way of using L2 regularization/weight decay with Adam,\u001b[39;00m\n\u001b[0;32m    660\u001b[0m \u001b[38;5;66;03m# since that will interact with the m and v parameters in strange ways.\u001b[39;00m\n\u001b[1;32m   (...)\u001b[0m\n\u001b[0;32m    664\u001b[0m \u001b[38;5;66;03m# of the weights to the loss with plain (non-momentum) SGD.\u001b[39;00m\n\u001b[0;32m    665\u001b[0m \u001b[38;5;66;03m# Add weight decay at the end (fixed version)\u001b[39;00m\n\u001b[0;32m    666\u001b[0m \u001b[38;5;28;01mif\u001b[39;00m group[\u001b[38;5;124m\"\u001b[39m\u001b[38;5;124mweight_decay\u001b[39m\u001b[38;5;124m\"\u001b[39m] \u001b[38;5;241m>\u001b[39m \u001b[38;5;241m0.0\u001b[39m:\n",
      "\u001b[1;31mKeyboardInterrupt\u001b[0m: "
     ]
    }
   ],
   "source": [
    "for epoch in range(5):\n",
    "    model.train()\n",
    "    for batch in train_dl:\n",
    "        optimizer.zero_grad()\n",
    "        input_ids = batch[0].to(device)\n",
    "        attention_mask = batch[1].to(device)\n",
    "        labels = batch[2].to(device)\n",
    "        \n",
    "        outputs = model(input_ids=input_ids, attention_mask=attention_mask, labels=labels, return_loss=True)\n",
    "        loss = outputs[1]\n",
    "        loss.backward()\n",
    "        optimizer.step()\n",
    "    \n",
    "    # Validation\n",
    "    model.eval()\n",
    "    total_val_loss = 0\n",
    "    correct = 0\n",
    "    total = 0\n",
    "\n",
    "    with torch.no_grad():\n",
    "        for batch in test_dl:\n",
    "            input_ids = batch[0].to(device)\n",
    "            attention_mask = batch[1].to(device)\n",
    "            labels = batch[2].to(device)\n",
    "            \n",
    "            # Forward pass with validation loss computation\n",
    "            outputs = model(input_ids=input_ids, attention_mask=attention_mask, labels=labels, return_loss=True)\n",
    "            logits = outputs[0]  # Logits from the model\n",
    "            val_loss = F.cross_entropy(logits, labels)  # Compute loss for this batch\n",
    "            \n",
    "            # Accumulate total loss\n",
    "            total_val_loss += val_loss.item()\n",
    "            \n",
    "            # Calculate predictions and accuracy\n",
    "            predictions = torch.argmax(logits, dim=1)\n",
    "            correct += (predictions == labels).sum().item()\n",
    "            total += labels.size(0)\n",
    "\n",
    "    # Calculate average validation loss and accuracy\n",
    "    avg_val_loss = total_val_loss / len(test_dl)  # Average loss per batch\n",
    "    accuracy = correct / total  # Overall accuracy\n",
    "\n",
    "    # Print metrics for this epoch\n",
    "    print(f\"Epoch {epoch + 1}:\")\n",
    "    print(f\"  Average Validation Loss: {avg_val_loss:.4f}\")\n",
    "    print(f\"  Validation Accuracy: {accuracy * 100:.2f}%\")"
   ]
  },
  {
   "cell_type": "code",
   "execution_count": null,
   "id": "2ccb62da-b96b-4ebc-8bfe-3c3c7baf60d4",
   "metadata": {},
   "outputs": [],
   "source": [
    "print('done')"
   ]
  },
  {
   "cell_type": "code",
   "execution_count": null,
   "id": "e717b035-b561-441e-9612-9b6f2f6bb424",
   "metadata": {},
   "outputs": [],
   "source": [
    "torch.save(model.state_dict(), \"my_model_weights.pt\")"
   ]
  },
  {
   "cell_type": "code",
   "execution_count": null,
   "id": "938ba3fa-23d5-49ab-ae70-c89ba942acaf",
   "metadata": {},
   "outputs": [],
   "source": [
    "# Recreate the same model architecture\n",
    "model = MyMobileBert.from_pretrained(\"google/mobilebert-uncased\", num_labels=2)  # same class & config used before\n",
    "\n",
    "# Load state dict\n",
    "model.load_state_dict(torch.load(\"my_model_weights.pt\"))\n",
    "model.eval()  # or model.train() if you're continuing training"
   ]
  },
  {
   "cell_type": "code",
   "execution_count": 193,
   "id": "16e14d9a-73ef-41db-bc94-ecb1b636a1fa",
   "metadata": {},
   "outputs": [
    {
     "ename": "TypeError",
     "evalue": "compile() got an unexpected keyword argument 'optimizer'",
     "output_type": "error",
     "traceback": [
      "\u001b[1;31m---------------------------------------------------------------------------\u001b[0m",
      "\u001b[1;31mTypeError\u001b[0m                                 Traceback (most recent call last)",
      "Cell \u001b[1;32mIn[193], line 1\u001b[0m\n\u001b[1;32m----> 1\u001b[0m \u001b[43mmodel\u001b[49m\u001b[38;5;241;43m.\u001b[39;49m\u001b[43mcompile\u001b[49m\u001b[43m(\u001b[49m\u001b[43moptimizer\u001b[49m\u001b[38;5;241;43m=\u001b[39;49m\u001b[43moptimizer\u001b[49m\u001b[43m,\u001b[49m\u001b[43m \u001b[49m\u001b[43mloss\u001b[49m\u001b[38;5;241;43m=\u001b[39;49m\u001b[43mtf\u001b[49m\u001b[38;5;241;43m.\u001b[39;49m\u001b[43mkeras\u001b[49m\u001b[38;5;241;43m.\u001b[39;49m\u001b[43mlosses\u001b[49m\u001b[38;5;241;43m.\u001b[39;49m\u001b[43mSparseCategoricalCrossentropy\u001b[49m\u001b[43m(\u001b[49m\u001b[43mfrom_logits\u001b[49m\u001b[38;5;241;43m=\u001b[39;49m\u001b[38;5;28;43;01mTrue\u001b[39;49;00m\u001b[43m)\u001b[49m\u001b[43m,\u001b[49m\u001b[43m \u001b[49m\u001b[43mmetrics\u001b[49m\u001b[38;5;241;43m=\u001b[39;49m\u001b[43m[\u001b[49m\u001b[38;5;124;43m'\u001b[39;49m\u001b[38;5;124;43maccuracy\u001b[39;49m\u001b[38;5;124;43m'\u001b[39;49m\u001b[43m]\u001b[49m\u001b[43m)\u001b[49m\n",
      "File \u001b[1;32m~\\AppData\\Local\\Packages\\PythonSoftwareFoundation.Python.3.12_qbz5n2kfra8p0\\LocalCache\\local-packages\\Python312\\site-packages\\torch\\nn\\modules\\module.py:2994\u001b[0m, in \u001b[0;36mModule.compile\u001b[1;34m(self, *args, **kwargs)\u001b[0m\n\u001b[0;32m   2985\u001b[0m \u001b[38;5;28;01mdef\u001b[39;00m \u001b[38;5;21mcompile\u001b[39m(\u001b[38;5;28mself\u001b[39m, \u001b[38;5;241m*\u001b[39margs, \u001b[38;5;241m*\u001b[39m\u001b[38;5;241m*\u001b[39mkwargs):\n\u001b[0;32m   2986\u001b[0m \u001b[38;5;250m    \u001b[39m\u001b[38;5;124;03m\"\"\"\u001b[39;00m\n\u001b[0;32m   2987\u001b[0m \u001b[38;5;124;03m    Compile this Module's forward using :func:`torch.compile`.\u001b[39;00m\n\u001b[0;32m   2988\u001b[0m \n\u001b[1;32m   (...)\u001b[0m\n\u001b[0;32m   2992\u001b[0m \u001b[38;5;124;03m    See :func:`torch.compile` for details on the arguments for this function.\u001b[39;00m\n\u001b[0;32m   2993\u001b[0m \u001b[38;5;124;03m    \"\"\"\u001b[39;00m\n\u001b[1;32m-> 2994\u001b[0m     \u001b[38;5;28mself\u001b[39m\u001b[38;5;241m.\u001b[39m_compiled_call_impl \u001b[38;5;241m=\u001b[39m \u001b[43mtorch\u001b[49m\u001b[38;5;241;43m.\u001b[39;49m\u001b[43mcompile\u001b[49m\u001b[43m(\u001b[49m\u001b[38;5;28;43mself\u001b[39;49m\u001b[38;5;241;43m.\u001b[39;49m\u001b[43m_call_impl\u001b[49m\u001b[43m,\u001b[49m\u001b[43m \u001b[49m\u001b[38;5;241;43m*\u001b[39;49m\u001b[43margs\u001b[49m\u001b[43m,\u001b[49m\u001b[43m \u001b[49m\u001b[38;5;241;43m*\u001b[39;49m\u001b[38;5;241;43m*\u001b[39;49m\u001b[43mkwargs\u001b[49m\u001b[43m)\u001b[49m\n",
      "\u001b[1;31mTypeError\u001b[0m: compile() got an unexpected keyword argument 'optimizer'"
     ]
    }
   ],
   "source": [
    "model.compile(optimizer=optimizer, loss=tf.keras.losses.SparseCategoricalCrossentropy(from_logits=True), metrics=['accuracy'])"
   ]
  },
  {
   "cell_type": "code",
   "execution_count": null,
   "id": "79f8fa12-41bf-4851-80b5-1a6582f85817",
   "metadata": {},
   "outputs": [],
   "source": [
    "from tensorflow.keras.mixed_precision import Policy, set_global_policy\n",
    "\n",
    "# Set the global policy for mixed precision\n",
    "policy = Policy('mixed_float16')\n",
    "set_global_policy(policy)\n",
    "\n",
    "print(\"Mixed precision policy set:\", policy)"
   ]
  },
  {
   "cell_type": "code",
   "execution_count": null,
   "id": "fe33d2a8-2c5d-455d-adde-e6fcdb0ccb3f",
   "metadata": {},
   "outputs": [],
   "source": [
    "history = model.fit(train_dataset, epochs=3, validation_data=test_dataset)"
   ]
  },
  {
   "cell_type": "code",
   "execution_count": null,
   "id": "68c221d2-f293-4b7c-8abd-0174a9af31ec",
   "metadata": {},
   "outputs": [],
   "source": [
    "model.save_pretrained('./new_model')\n",
    "tokenizer.save_pretrained('./new_model')"
   ]
  },
  {
   "cell_type": "code",
   "execution_count": null,
   "id": "1cbc4a71-53a3-4e3e-99b2-dd9f966045f9",
   "metadata": {},
   "outputs": [],
   "source": [
    "test_data = pd.read_csv(\"./Liar dataset/test.tsv\", sep=\"\\t\", names=column_names)\n",
    "\n",
    "label_map = {\n",
    "    'POF': 0,\n",
    "    'false': 0,\n",
    "    'barely-true': 0,\n",
    "    'half-true': 1,\n",
    "    'true': 1\n",
    "}\n",
    "label_columns = ['POF', 'false', 'barely-true', 'half-true', 'true']\n",
    "\n",
    "test_data = test_data.dropna(subset=label_columns, how='all')\n",
    "test_data = test_data[['statement', 'POF', 'false', 'barely-true', 'half-true', 'true']]\n",
    "test_data['label'] = test_data[label_columns].idxmax(axis=1)\n",
    "test_data['truth'] = test_data['label'].map(label_map)\n",
    "\n",
    "\"\"\"weighted_sum = sum([current_data[col] * label_map[col] for col in label_columns])\n",
    "total_counts = current_data[label_columns].sum(axis=1)\n",
    "current_data['confidence'] = round((weighted_sum / total_counts), 2)\"\"\"\n",
    "test_data = test_data[['statement', 'truth']]\n",
    "test_data['statement'] = test_data['statement'].apply(preprocess)"
   ]
  },
  {
   "cell_type": "code",
   "execution_count": null,
   "id": "aa728d16-a131-4aee-8da2-138fb106d5fc",
   "metadata": {},
   "outputs": [],
   "source": [
    "feats = test_data['statement'].astype(str).tolist()\n",
    "labels = test_data['truth']\n",
    "\n",
    "tst_tokenized = tokenizer(\n",
    "    feats,\n",
    "    padding=True,\n",
    "    truncation=True,\n",
    "    max_length=64,\n",
    "    return_tensors='tf'\n",
    ")\n",
    "tst_dataset = tf.data.Dataset.from_tensor_slices((\n",
    "    {'input_ids': tst_tokenized['input_ids'], 'attention_mask': tst_tokenized['attention_mask']},\n",
    "    labels\n",
    ")).batch(16)"
   ]
  },
  {
   "cell_type": "code",
   "execution_count": null,
   "id": "33b29b73-7802-4b8b-8b1a-dac386b20186",
   "metadata": {},
   "outputs": [],
   "source": []
  },
  {
   "cell_type": "code",
   "execution_count": null,
   "id": "6f48ec6b-92c6-4450-95dc-75621f3db5e2",
   "metadata": {
    "scrolled": true
   },
   "outputs": [],
   "source": [
    "from tqdm import tqdm\n",
    "\n",
    "batch_size = len(test_tokenized['input_ids']) // 32  # Adjust based on your hardware\n",
    "outputs = []\n",
    "\n",
    "for i in tqdm(range(0, len(test_tokenized['input_ids']), batch_size)):\n",
    "    batch_input_ids = test_tokenized['input_ids'][i:i+batch_size]\n",
    "    batch_attention_mask = test_tokenized['attention_mask'][i:i+batch_size]\n",
    "    batch_output = model(input_ids=batch_input_ids, attention_mask=batch_attention_mask)\n",
    "    outputs.append(batch_output.logits)"
   ]
  },
  {
   "cell_type": "code",
   "execution_count": null,
   "id": "6a64b643-b376-4898-acf5-cb0925bcedcd",
   "metadata": {},
   "outputs": [],
   "source": [
    "all_logits = tf.concat(outputs, axis=0)\n",
    "\n",
    "print(all_logits.shape)"
   ]
  },
  {
   "cell_type": "code",
   "execution_count": null,
   "id": "1a88ffee-3026-428d-a5d4-62b914a8f583",
   "metadata": {},
   "outputs": [],
   "source": [
    "predicted_classes = tf.argmax(all_logits, axis=-1)\n",
    "correct_predictions = tf.reduce_sum(tf.cast(predicted_classes == y_bert_test, tf.float32))\n",
    "accuracy = correct_predictions / len(y_bert_test)\n",
    "\n",
    "print(f\"Model Accuracy: {accuracy.numpy():.2%}\")"
   ]
  },
  {
   "cell_type": "code",
   "execution_count": null,
   "id": "232f0674-98ff-4a7b-8ac3-d908757e6781",
   "metadata": {},
   "outputs": [],
   "source": []
  },
  {
   "cell_type": "code",
   "execution_count": null,
   "id": "d051dc16-0a4c-43f9-b022-558f3e8f0a1d",
   "metadata": {},
   "outputs": [],
   "source": [
    "\"\"\"current_data_1 = pd.read_csv('./dataset 2/dataset/gossipcop_fake.csv')\n",
    "current_data_1 = current_data_1.dropna(how='all')\n",
    "current_data_1 = current_data_1[['title']]\n",
    "current_data_1 = current_data_1.rename(columns={'title':'statement'})\n",
    "current_data_1['truth'] = 0\"\"\""
   ]
  },
  {
   "cell_type": "code",
   "execution_count": null,
   "id": "436e46dc-0598-48af-94ce-494583d44686",
   "metadata": {},
   "outputs": [],
   "source": [
    "\"\"\"current_data_2 = pd.read_csv('./dataset 2/dataset/gossipcop_real.csv')\n",
    "current_data_2 = current_data_2.dropna(how='all')\n",
    "current_data_2 = current_data_2[['title']]\n",
    "current_data_2 = current_data_2.rename(columns={'title':'statement'})\n",
    "current_data_2['truth'] = 1\"\"\""
   ]
  },
  {
   "cell_type": "code",
   "execution_count": null,
   "id": "376a01dd-a081-41ce-af1e-e75401608cf1",
   "metadata": {},
   "outputs": [],
   "source": [
    "\"\"\"current_data = pd.concat([current_data_1, current_data_2])\n",
    "X = current_data['statement']\n",
    "y = current_data['truth']\n",
    "\n",
    "vectorizer = TfidfVectorizer(max_features=5000)\n",
    "X_vectorized = vectorizer.fit_transform(X)\n",
    "\n",
    "smote = SMOTE(random_state=42)\n",
    "X_resampled, y_resampled = smote.fit_resample(X_vectorized, y)\n",
    "\n",
    "resampled_df = pd.DataFrame({'statement': vectorizer.inverse_transform(X_resampled),  # Attempt to reverse transform\n",
    "                             'truth': y_resampled})\n",
    "current_data = resampled_df\"\"\""
   ]
  },
  {
   "cell_type": "code",
   "execution_count": null,
   "id": "cfea18fd-2697-41fa-89cb-b8db7578311c",
   "metadata": {},
   "outputs": [],
   "source": [
    "#data = pd.concat([data, current_data])"
   ]
  },
  {
   "cell_type": "code",
   "execution_count": null,
   "id": "a59ae85d-302c-470e-9675-fdcab90518df",
   "metadata": {},
   "outputs": [],
   "source": [
    "\"\"\"current_df_1 = pd.read_csv('./dataset 2/dataset/politifact_fake.csv')\n",
    "current_df_1 = current_df_1.dropna(how='all')\n",
    "current_df_1 = current_df_1[['title']]\n",
    "current_df_1 = current_df_1.rename(columns={'title':'statement'})\n",
    "current_df_1['truth'] = 0\n",
    "current_df_1['statement'] = current_df_1['statement'].apply(preprocess)\"\"\""
   ]
  },
  {
   "cell_type": "code",
   "execution_count": null,
   "id": "f0d45db9-1e16-45fe-a41e-0660969e2fe8",
   "metadata": {},
   "outputs": [],
   "source": [
    "\"\"\"current_df_2 = pd.read_csv('./dataset 2/dataset/politifact_real.csv')\n",
    "current_df_2 = current_df_2.dropna(how='all')\n",
    "current_df_2 = current_df_2[['title']]\n",
    "current_df_2 = current_df_2.rename(columns={'title':'statement'})\n",
    "current_df_2['truth'] = 1\n",
    "current_df_2['statement'] = current_df_2['statement'].apply(preprocess)\"\"\""
   ]
  },
  {
   "cell_type": "code",
   "execution_count": null,
   "id": "60cd9a58-2328-4b8b-9d7f-4870b358a53d",
   "metadata": {},
   "outputs": [],
   "source": [
    "#current_df = pd.concat([current_df_1, current_df_2])\n",
    "\"\"\"X = current_data['statement']\n",
    "y = current_data['truth']\n",
    "\n",
    "vectorizer = TfidfVectorizer(max_features=5000)\n",
    "X_vectorized = vectorizer.fit_transform(X)\n",
    "\n",
    "smote = SMOTE(random_state=42)\n",
    "X_resampled, y_resampled = smote.fit_resample(X_vectorized, y)\n",
    "\n",
    "resampled_df = pd.DataFrame({'statement': vectorizer.inverse_transform(X_resampled),  # Attempt to reverse transform\n",
    "                             'truth': y_resampled})\n",
    "current_data = resampled_df\"\"\""
   ]
  },
  {
   "cell_type": "code",
   "execution_count": null,
   "id": "23019fe9-2a80-4960-b95c-80722f338503",
   "metadata": {},
   "outputs": [],
   "source": [
    "#logistic regression model from scratch"
   ]
  },
  {
   "cell_type": "code",
   "execution_count": null,
   "id": "4d8277c1-2200-4031-b7d4-96d6d587866d",
   "metadata": {},
   "outputs": [],
   "source": [
    "from sklearn.metrics import accuracy_score, classification_report"
   ]
  },
  {
   "cell_type": "code",
   "execution_count": null,
   "id": "b98c81c0-d3a4-4cfa-9437-57e7571c14e9",
   "metadata": {},
   "outputs": [],
   "source": [
    "class LogisticRegression:\n",
    "    def __init__(self):\n",
    "        ...\n",
    "        \n",
    "    def sigmoid(self, n):\n",
    "        return 1 / (1 + np.exp(-n))\n",
    "        \n",
    "    def initialize_weights(self, n_features):\n",
    "        weights = np.zeros(n_features)\n",
    "        bias = 0\n",
    "        return weights, bias\n",
    "        \n",
    "    def predict(self, X, weights, bias):\n",
    "        linear_model = X.dot(weights) + bias\n",
    "        predictions = self.sigmoid(linear_model)\n",
    "        return predictions\n",
    "        \n",
    "    def calculate_loss(self, y_true, y_pred):\n",
    "        n = len(y_true)\n",
    "        loss = (-1/n) * np.sum(y_true * np.log(y_pred) + (1 - y_true) * np.log(1 - y_pred))\n",
    "        return loss\n",
    "    \n",
    "    def gradient_descent(self, X, y, weights, bias, lr):\n",
    "        n = X.shape[0]\n",
    "    \n",
    "        y_pred = self.predict(X, weights, bias)\n",
    "    \n",
    "        dw = X.T.dot(y_pred - y) / n\n",
    "        db = np.sum(y_pred - y) / n\n",
    "    \n",
    "        weights -= lr * dw\n",
    "        bias -= lr * db\n",
    "    \n",
    "        return weights, bias\n",
    "\n",
    "    def train(self, X, y, lr=.1, epochs=1000, batch_size=500):\n",
    "        n_features = X.shape[1]\n",
    "    \n",
    "        weights, bias = self.initialize_weights(n_features)\n",
    "    \n",
    "        losses = []\n",
    "    \n",
    "        for epoch in range(epochs):\n",
    "            for i in range(0, X.shape[0], batch_size):\n",
    "                X_batch = X[i:i + batch_size]\n",
    "                y_batch = y[i:i + batch_size]\n",
    "                \n",
    "                \n",
    "                weights, bias = self.gradient_descent(X_batch, y_batch, weights, bias, lr)\n",
    "    \n",
    "            y_pred = self.predict(X, weights, bias)\n",
    "            loss = self.calculate_loss(y, y_pred)\n",
    "            losses.append(loss)\n",
    "    \n",
    "            if epoch % 100 == 0:\n",
    "                print(f\"Epoch {epoch}, Loss: {loss}\")\n",
    "        return weights, bias, losses\n",
    "\n",
    "    def classify(self, X, weights, bias, threshold=.5):\n",
    "        probabilities = self.predict(X, weights, bias)\n",
    "        return [1 if p >= threshold else 0 for p in probabilities]"
   ]
  },
  {
   "cell_type": "code",
   "execution_count": null,
   "id": "5354f503-a2aa-408d-8349-cabd6a0bf291",
   "metadata": {},
   "outputs": [],
   "source": [
    "#USE FOR THE SKLEARN MODEL\n",
    "#vectorizer = TfidfVectorizer(max_features=5000, stop_words='english')\n",
    "\n",
    "#X = data['statement'].astype(str)"
   ]
  },
  {
   "cell_type": "code",
   "execution_count": null,
   "id": "89a4bd9f-4d6c-4346-9374-bf2c55864d3a",
   "metadata": {},
   "outputs": [],
   "source": [
    "#USE FOR THE SKLEARN MODEL\n",
    "\"\"\"X_tfidf = vectorizer.fit_transform(X)\n",
    "y = np.array(data['truth'])\"\"\""
   ]
  },
  {
   "cell_type": "code",
   "execution_count": null,
   "id": "8b3e855c-bd4c-4926-b812-61dd9b8f2ec7",
   "metadata": {},
   "outputs": [],
   "source": [
    "#X_train, X_test, y_train, y_test = train_test_split(X_tfidf, y, test_size=.2, random_state=42) #USE FOR THE SKLEARN MODEL"
   ]
  },
  {
   "cell_type": "code",
   "execution_count": null,
   "id": "721ad222-a6d1-4f50-8a0a-f212a8581cf9",
   "metadata": {},
   "outputs": [],
   "source": [
    "#DON'T USE FOR SKLEARN\n",
    "#regressor = LogisticRegression()\n",
    "#weights, bias, losses = regressor.train(X_train, y_train)\n",
    "#y_pred = regressor.classify(X_test, weights, bias)\n",
    "#print(\"Accuracy:\", accuracy_score(y_test, y_pred))\n",
    "#print(classification_report(y_test, y_pred))"
   ]
  },
  {
   "cell_type": "code",
   "execution_count": null,
   "id": "c133e1b9-c4c2-487f-8aa4-deac4b638013",
   "metadata": {},
   "outputs": [],
   "source": [
    "#logistic regression using sklearn"
   ]
  },
  {
   "cell_type": "code",
   "execution_count": null,
   "id": "12fbf28d-6a33-40ca-adc8-c08946200649",
   "metadata": {},
   "outputs": [],
   "source": [
    "from sklearn.linear_model import LogisticRegression\n",
    "from sklearn.metrics import confusion_matrix"
   ]
  },
  {
   "cell_type": "code",
   "execution_count": null,
   "id": "7e2b0fe6-ecce-4dd0-b626-fb6f8d896be1",
   "metadata": {},
   "outputs": [],
   "source": [
    "#model = LogisticRegression(max_iter=1000, solver='lbfgs')\n",
    "#model.fit(X_train, y_train)"
   ]
  },
  {
   "cell_type": "code",
   "execution_count": null,
   "id": "4cc172d2-9f68-40c8-89b6-7cd79b849fa1",
   "metadata": {},
   "outputs": [],
   "source": [
    "#y_pred = model.predict(X_test)\n",
    "#y_prob = model.predict_proba(X_test)[:, 1]"
   ]
  },
  {
   "cell_type": "code",
   "execution_count": null,
   "id": "8c2b0741-90a3-477b-88fe-9ea8942a9e92",
   "metadata": {},
   "outputs": [],
   "source": [
    "#print(\"Accuracy:\", accuracy_score(y_test, y_pred))\n",
    "#print(classification_report(y_test, y_pred))"
   ]
  },
  {
   "cell_type": "code",
   "execution_count": null,
   "id": "2cd98408-7393-4365-8b96-8063e9be447d",
   "metadata": {},
   "outputs": [],
   "source": [
    "#random forest"
   ]
  },
  {
   "cell_type": "code",
   "execution_count": null,
   "id": "45fcae8e-ae90-406c-bbdf-33902626fc2c",
   "metadata": {},
   "outputs": [],
   "source": []
  }
 ],
 "metadata": {
  "kernelspec": {
   "display_name": "Python 3 (ipykernel)",
   "language": "python",
   "name": "python3"
  },
  "language_info": {
   "codemirror_mode": {
    "name": "ipython",
    "version": 3
   },
   "file_extension": ".py",
   "mimetype": "text/x-python",
   "name": "python",
   "nbconvert_exporter": "python",
   "pygments_lexer": "ipython3",
   "version": "3.12.8"
  }
 },
 "nbformat": 4,
 "nbformat_minor": 5
}
